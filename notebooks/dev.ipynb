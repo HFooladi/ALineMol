{
 "cells": [
  {
   "cell_type": "markdown",
   "metadata": {},
   "source": [
    "# Import libraries"
   ]
  },
  {
   "cell_type": "code",
   "execution_count": 1,
   "metadata": {},
   "outputs": [],
   "source": [
    "import os\n",
    "import sys\n",
    "import numpy as np\n",
    "import pandas as pd\n",
    "\n",
    "\n",
    "\n",
    "repo_path = os.path.dirname(os.path.abspath(\"\"))\n",
    "CHECKOUT_PATH = repo_path\n",
    "DATASET_PATH = os.path.join(repo_path, \"datasets\")\n",
    "\n",
    "os.chdir(CHECKOUT_PATH)\n",
    "sys.path.insert(0, CHECKOUT_PATH)"
   ]
  },
  {
   "cell_type": "code",
   "execution_count": 2,
   "metadata": {},
   "outputs": [],
   "source": [
    "from alinemol.preprocessing import standardize_smiles, drop_duplicates\n",
    "from alinemol.utils.split_utils import get_scaffold\n",
    "\n",
    "from rdkit import Chem\n",
    "from rdkit.Chem.Draw import IPythonConsole\n",
    "from rdkit.Chem import Draw\n",
    "from rdkit.Chem import rdFMCS\n",
    "Draw.SetComicMode(IPythonConsole.drawOptions)\n",
    "\n",
    "%matplotlib inline\n",
    "import matplotlib\n",
    "import matplotlib.pyplot as plt\n",
    "import seaborn as sns\n",
    "from matplotlib import cm\n"
   ]
  },
  {
   "cell_type": "code",
   "execution_count": 20,
   "metadata": {},
   "outputs": [],
   "source": [
    "#light_color = plt.get_cmap(\"plasma\").colors[170]\n",
    "#dark_color = plt.get_cmap(\"plasma\").colors[5]\n",
    "#dark_color = \"black\"\n",
    "\n",
    "\n",
    "#matplotlib.use(\"pgf\")\n",
    "\n",
    "\n",
    "matplotlib.rcParams.update(\n",
    "    {\n",
    "        \"pgf.texsystem\": \"pdflatex\",\n",
    "        \"font.family\": \"serif\",\n",
    "        \"font.serif\": \"Computer Modern Roman\",\n",
    "        \"font.size\": 14,\n",
    "        \"text.usetex\": True,\n",
    "        \"pgf.rcfonts\": False,\n",
    "        \"legend.loc\": \"upper right\",\n",
    "    }\n",
    ")\n",
    "\n",
    "sns.set_palette(\"Set2\")"
   ]
  },
  {
   "cell_type": "markdown",
   "metadata": {},
   "source": [
    "# Standardize the dataset"
   ]
  },
  {
   "cell_type": "code",
   "execution_count": null,
   "metadata": {},
   "outputs": [],
   "source": [
    "mol_file = os.path.join(DATASET_PATH, \"CHEMBL\", \"CHEMBL1614280\", \"CHEMBL1614280_simplified.csv\")\n",
    "mol_df = pd.read_csv(mol_file)\n",
    "print(mol_df.shape)"
   ]
  },
  {
   "cell_type": "code",
   "execution_count": null,
   "metadata": {},
   "outputs": [],
   "source": [
    "mol_df = standardize_smiles(mol_df)\n",
    "print(mol_df.shape)"
   ]
  },
  {
   "cell_type": "code",
   "execution_count": null,
   "metadata": {},
   "outputs": [],
   "source": [
    "mol_df = drop_duplicates(mol_df)\n",
    "print(mol_df.shape)"
   ]
  },
  {
   "cell_type": "code",
   "execution_count": 7,
   "metadata": {},
   "outputs": [],
   "source": [
    "df = mol_df[[\"canonical_smiles\", \"label\"]]\n",
    "df.columns = [\"smiles\", \"label\"]\n",
    "\n",
    "df.to_csv(os.path.join(DATASET_PATH, \"CHEMBL\", \"CHEMBL1614280\", \"CHEMBL1614280_standardize.csv\"), index=False)"
   ]
  },
  {
   "cell_type": "code",
   "execution_count": null,
   "metadata": {},
   "outputs": [],
   "source": [
    "mol_df[mol_df['canonical_smiles'].duplicated()]"
   ]
  },
  {
   "cell_type": "code",
   "execution_count": 6,
   "metadata": {},
   "outputs": [],
   "source": [
    "X = np.array(mol_df[\"smiles\"])\n",
    "y = np.array(mol_df[\"label\"])"
   ]
  },
  {
   "cell_type": "code",
   "execution_count": 12,
   "metadata": {},
   "outputs": [],
   "source": [
    "scaf = [get_scaffold(smi) for smi in X]"
   ]
  },
  {
   "cell_type": "code",
   "execution_count": null,
   "metadata": {},
   "outputs": [],
   "source": [
    "## chosse 6 random structure and corresponding scaffold\n",
    "np.random.seed(7)\n",
    "idx = np.random.choice(len(X), 6)\n",
    "mols = [Chem.MolFromSmiles(X[i]) for i in idx]\n",
    "scafs = [Chem.MolFromSmiles(scaf[i]) for i in idx]\n",
    "\n",
    "## draw the molecules and their scaffolds\n",
    "img = Draw.MolsToGridImage(mols, molsPerRow=3, subImgSize=(300, 200), legends=[f\"idx: {i}\" for i in idx])\n",
    "img"
   ]
  },
  {
   "cell_type": "code",
   "execution_count": null,
   "metadata": {},
   "outputs": [],
   "source": [
    "# Draw scaffold\n",
    "img_scaf = Draw.MolsToGridImage(scafs, molsPerRow=3, subImgSize=(300, 200), legends=[f\"idx: {i}\" for i in idx])\n",
    "img_scaf"
   ]
  },
  {
   "cell_type": "code",
   "execution_count": 6,
   "metadata": {},
   "outputs": [],
   "source": [
    "dataset_category=\"MoleculeNet\"\n",
    "dataset_names=\"HIV\"\n",
    "dataset = pd.read_csv(os.path.join(DATASET_PATH, dataset_category, dataset_names, \"HIV_simplified\" + \".csv\"))"
   ]
  },
  {
   "cell_type": "code",
   "execution_count": null,
   "metadata": {},
   "outputs": [],
   "source": [
    "dataset"
   ]
  },
  {
   "cell_type": "code",
   "execution_count": null,
   "metadata": {},
   "outputs": [],
   "source": [
    "dataset['smiles'].duplicated().sum()"
   ]
  },
  {
   "cell_type": "code",
   "execution_count": null,
   "metadata": {},
   "outputs": [],
   "source": [
    "new_df = standardize_smiles(dataset)"
   ]
  },
  {
   "cell_type": "code",
   "execution_count": null,
   "metadata": {},
   "outputs": [],
   "source": [
    "new_df"
   ]
  },
  {
   "cell_type": "code",
   "execution_count": null,
   "metadata": {},
   "outputs": [],
   "source": [
    "new_df['canonical_smiles'].isna().sum()"
   ]
  },
  {
   "cell_type": "code",
   "execution_count": 12,
   "metadata": {},
   "outputs": [],
   "source": [
    "new_df = new_df.dropna(subset=['canonical_smiles'])\n",
    "new_df = new_df[[\"canonical_smiles\", \"label\"]]\n",
    "new_df.columns = [\"smiles\", \"label\"]"
   ]
  },
  {
   "cell_type": "code",
   "execution_count": 14,
   "metadata": {},
   "outputs": [],
   "source": [
    "new_df.to_csv(os.path.join(DATASET_PATH, dataset_category, dataset_names, \"HIV_processed\" + \".csv\"), index=False)"
   ]
  },
  {
   "cell_type": "code",
   "execution_count": null,
   "metadata": {},
   "outputs": [],
   "source": [
    "new_df[new_df['smiles'].duplicated()]"
   ]
  },
  {
   "cell_type": "code",
   "execution_count": 32,
   "metadata": {},
   "outputs": [],
   "source": [
    "dff = new_df[new_df.groupby('smiles').label.transform('nunique') == 1]"
   ]
  },
  {
   "cell_type": "code",
   "execution_count": 40,
   "metadata": {},
   "outputs": [],
   "source": [
    "dff=dff.drop_duplicates(subset=['smiles'], keep='first')"
   ]
  },
  {
   "cell_type": "code",
   "execution_count": 42,
   "metadata": {},
   "outputs": [],
   "source": [
    "dff.reset_index(drop=True, inplace=True)"
   ]
  },
  {
   "cell_type": "code",
   "execution_count": null,
   "metadata": {},
   "outputs": [],
   "source": [
    "dff.label.value_counts()"
   ]
  },
  {
   "cell_type": "code",
   "execution_count": null,
   "metadata": {},
   "outputs": [],
   "source": [
    "new_df.groupby('smiles').label.nunique()>1"
   ]
  },
  {
   "cell_type": "code",
   "execution_count": null,
   "metadata": {},
   "outputs": [],
   "source": [
    "new_df.groupby('smiles').label.transform('nunique')"
   ]
  },
  {
   "cell_type": "code",
   "execution_count": 3,
   "metadata": {},
   "outputs": [],
   "source": [
    "x  = ['CC', 'CC', 'CC', 'CCC', 'CCC', 'CCCC', 'CCCCC', 'CCCCC']\n",
    "label= [1, 1, 0, 1, 1, 1, 1, 0]\n",
    "df = pd.DataFrame({'smiles': x, 'label': label})\n",
    "df = standardize_smiles(df)"
   ]
  },
  {
   "cell_type": "code",
   "execution_count": null,
   "metadata": {},
   "outputs": [],
   "source": [
    "df = df[['canonical_smiles', 'label']].rename(columns={'canonical_smiles': 'smiles'})"
   ]
  },
  {
   "cell_type": "code",
   "execution_count": null,
   "metadata": {},
   "outputs": [],
   "source": [
    "drop_duplicates(df)['label'].nunique()"
   ]
  },
  {
   "cell_type": "code",
   "execution_count": 7,
   "metadata": {},
   "outputs": [],
   "source": [
    "mol_df = mol_df[['canonical_smiles', 'label']].rename(columns={'canonical_smiles': 'smiles'})"
   ]
  },
  {
   "cell_type": "code",
   "execution_count": 8,
   "metadata": {},
   "outputs": [],
   "source": [
    "import splito\n",
    "from splito import *"
   ]
  },
  {
   "cell_type": "code",
   "execution_count": 14,
   "metadata": {},
   "outputs": [],
   "source": [
    "def splits_scaffold(test_dataset_dili, make_generic):\n",
    "    smiles = test_dataset_dili[\"smiles\"].values\n",
    "    splitter = ScaffoldSplit(smiles, n_splits=5, make_generic=make_generic, test_size=None)\n",
    "    for train_ind, test_ind in splitter.split(smiles):\n",
    "        assert len(train_ind) + len(test_ind) == len(smiles)\n",
    "        assert len(set(train_ind).intersection(set(test_ind))) == 0\n",
    "        assert len(train_ind) > 0 and len(test_ind) > 0\n",
    "        print(len(train_ind))\n",
    "        print(len(test_ind))\n",
    "\n",
    "        train_scfs = set([get_scaffold(smiles[i], make_generic=make_generic) for i in train_ind])\n",
    "        print(len(train_scfs))\n",
    "        test_scfs = [get_scaffold(smiles[i], make_generic=make_generic) for i in test_ind]\n",
    "        print(len(test_scfs))\n",
    "        print(len(set(test_scfs)))\n",
    "        print(test_scfs[0])\n",
    "        assert not any(test_scf in train_scfs for test_scf in test_scfs)"
   ]
  },
  {
   "cell_type": "code",
   "execution_count": null,
   "metadata": {},
   "outputs": [],
   "source": [
    "splits_scaffold(mol_df, make_generic=False)"
   ]
  },
  {
   "cell_type": "code",
   "execution_count": 63,
   "metadata": {},
   "outputs": [],
   "source": [
    "import datamol as dm"
   ]
  },
  {
   "cell_type": "code",
   "execution_count": 76,
   "metadata": {},
   "outputs": [],
   "source": [
    "def splits_molecular_weight(test_dataset_dili, generalize_to_larger):\n",
    "    smiles = test_dataset_dili[\"smiles\"].values\n",
    "    splitter = MolecularWeightSplit(generalize_to_larger=generalize_to_larger, n_splits=2, test_size=0.1)\n",
    "\n",
    "    for train_ind, test_ind in splitter.split(smiles):\n",
    "        assert len(train_ind) + len(test_ind) == len(smiles)\n",
    "        assert len(set(train_ind).intersection(set(test_ind))) == 0\n",
    "        assert len(train_ind) > len(test_ind)\n",
    "        assert len(train_ind) > 0 and len(test_ind) > 0\n",
    "        print(len(train_ind))\n",
    "        print(len(test_ind))\n",
    "\n",
    "        train_mws = [dm.descriptors.mw(dm.to_mol(smi)) for smi in smiles[train_ind]]\n",
    "        if generalize_to_larger:\n",
    "            assert all(\n",
    "                dm.descriptors.mw(dm.to_mol(smi)) >= max(train_mws) for smi in smiles[test_ind]\n",
    "            )\n",
    "        else:\n",
    "            assert all(\n",
    "                dm.descriptors.mw(dm.to_mol(smi)) <= min(train_mws) for smi in smiles[test_ind]\n",
    "            )"
   ]
  },
  {
   "cell_type": "code",
   "execution_count": 82,
   "metadata": {},
   "outputs": [],
   "source": [
    "from splito import MaxDissimilaritySplit"
   ]
  },
  {
   "cell_type": "code",
   "execution_count": 9,
   "metadata": {},
   "outputs": [],
   "source": [
    "def test_splits_max_dissimilar_default_feats(test_dataset_smiles):\n",
    "    splitter = MaxDissimilaritySplit(n_splits=2)\n",
    "\n",
    "    for train_ind, test_ind in splitter.split(test_dataset_smiles):\n",
    "        assert len(train_ind) + len(test_ind) == len(test_dataset_smiles)\n",
    "        assert len(set(train_ind).intersection(set(test_ind))) == 0\n",
    "        assert len(train_ind) > 0 and len(test_ind) > 0"
   ]
  },
  {
   "cell_type": "code",
   "execution_count": null,
   "metadata": {},
   "outputs": [],
   "source": [
    "mol_df"
   ]
  },
  {
   "cell_type": "code",
   "execution_count": 11,
   "metadata": {},
   "outputs": [],
   "source": [
    "smiles = mol_df[\"smiles\"].values"
   ]
  },
  {
   "cell_type": "code",
   "execution_count": null,
   "metadata": {},
   "outputs": [],
   "source": [
    "test_splits_max_dissimilar_default_feats(smiles)"
   ]
  },
  {
   "cell_type": "code",
   "execution_count": 87,
   "metadata": {},
   "outputs": [],
   "source": [
    "from splito import PerimeterSplit\n",
    "\n",
    "\n",
    "def test_splits_perimeter(test_dataset_smiles):\n",
    "    splitter = PerimeterSplit(n_splits=2)\n",
    "\n",
    "    for train_ind, test_ind in splitter.split(test_dataset_smiles):\n",
    "        assert len(train_ind) + len(test_ind) == len(test_dataset_smiles)\n",
    "        assert len(set(train_ind).intersection(set(test_ind))) == 0\n",
    "        assert len(train_ind) > 0 and len(test_ind) > 0\n",
    "        assert splitter._metric == \"jaccard\""
   ]
  },
  {
   "cell_type": "code",
   "execution_count": 90,
   "metadata": {},
   "outputs": [],
   "source": [
    "splitter = PerimeterSplit(n_splits=2)"
   ]
  },
  {
   "cell_type": "code",
   "execution_count": null,
   "metadata": {},
   "outputs": [],
   "source": [
    "splitter"
   ]
  },
  {
   "cell_type": "code",
   "execution_count": null,
   "metadata": {},
   "outputs": [],
   "source": [
    "splitter = PerimeterSplit(n_splits=2)\n",
    "\n",
    "for train_ind, test_ind in splitter.split(smiles):\n",
    "    assert len(train_ind) + len(test_ind) == len(smiles)\n",
    "    assert len(set(train_ind).intersection(set(test_ind))) == 0\n",
    "    assert len(train_ind) > 0 and len(test_ind) > 0\n",
    "    assert splitter._metric == \"jaccard\""
   ]
  },
  {
   "cell_type": "code",
   "execution_count": null,
   "metadata": {},
   "outputs": [],
   "source": [
    "splits_molecular_weight(mol_df, generalize_to_larger=True)"
   ]
  },
  {
   "cell_type": "code",
   "execution_count": null,
   "metadata": {},
   "outputs": [],
   "source": [
    "## aplly all the splitter that are available in splito on the moldf dataset and create train and test index\n",
    "splitter = splito.MolecularWeightSplit(test_size=0.2, generalize_to_larger=True)\n",
    "train_idx, test_idx = next(splitter.split(X=mol_df.smiles.tolist()))\n",
    "assert train_idx.shape[0] > test_idx.shape[0]"
   ]
  },
  {
   "cell_type": "code",
   "execution_count": 22,
   "metadata": {},
   "outputs": [],
   "source": [
    "mol_df.loc[train_idx, \"MolecularWeightSplit\"] = \"train\"\n",
    "mol_df.loc[test_idx, \"MolecularWeightSplit\"] = \"test\""
   ]
  },
  {
   "cell_type": "code",
   "execution_count": 23,
   "metadata": {},
   "outputs": [],
   "source": [
    "import datamol as dm"
   ]
  },
  {
   "cell_type": "code",
   "execution_count": 24,
   "metadata": {},
   "outputs": [],
   "source": [
    "mol_df[\"mw\"] = mol_df.smiles.apply(lambda smi: dm.descriptors.mw(dm.to_mol(smi)))"
   ]
  },
  {
   "cell_type": "code",
   "execution_count": null,
   "metadata": {},
   "outputs": [],
   "source": [
    "mol_df.groupby(by=\"MolecularWeightSplit\")[\"mw\"].hist(legend=True)"
   ]
  },
  {
   "cell_type": "code",
   "execution_count": null,
   "metadata": {},
   "outputs": [],
   "source": []
  },
  {
   "cell_type": "code",
   "execution_count": 42,
   "metadata": {},
   "outputs": [],
   "source": [
    "mol_df =mol_df[-mol_df.duplicated()]"
   ]
  },
  {
   "cell_type": "code",
   "execution_count": null,
   "metadata": {},
   "outputs": [],
   "source": [
    "from alinemol.utils.split_utils import get_scaffold\n",
    "for idx in mol_df.index:\n",
    "    mol_df.loc[idx, \"scaffold\"] = get_scaffold(mol_df.loc[idx, \"smiles\"])"
   ]
  },
  {
   "cell_type": "code",
   "execution_count": null,
   "metadata": {},
   "outputs": [],
   "source": [
    "for idx in mol_df.index:\n",
    "    mol_df.loc[idx, \"scaffold_generic\"] = get_scaffold(mol_df.loc[idx, \"smiles\"], make_generic=True)"
   ]
  },
  {
   "cell_type": "code",
   "execution_count": null,
   "metadata": {},
   "outputs": [],
   "source": [
    "mol_df['scaffold_generic'].nunique()"
   ]
  },
  {
   "cell_type": "code",
   "execution_count": 83,
   "metadata": {},
   "outputs": [],
   "source": [
    "dataset_category=\"MoleculeNet\"\n",
    "dataset_names=\"HIV\"\n",
    "split_type=\"scaffold\"\n",
    "filename=\"external_test_balanced.csv\"\n",
    "train_filename=\"train_balanced.csv\"\n",
    "SPLIT_PATH = os.path.join(DATASET_PATH, dataset_category, dataset_names, \"split\")"
   ]
  },
  {
   "cell_type": "code",
   "execution_count": 84,
   "metadata": {},
   "outputs": [],
   "source": [
    "external_test = pd.read_csv(os.path.join (SPLIT_PATH, split_type, filename))\n",
    "train = pd.read_csv(os.path.join (SPLIT_PATH, split_type, train_filename))\n",
    "df = pd.concat([external_test, train])"
   ]
  },
  {
   "cell_type": "code",
   "execution_count": 78,
   "metadata": {},
   "outputs": [],
   "source": [
    "#df= pd.read_csv(\"datasets/TDC/CYP3A4/CYP3A4_simplified.csv\")"
   ]
  },
  {
   "cell_type": "code",
   "execution_count": 85,
   "metadata": {},
   "outputs": [],
   "source": [
    "train_scaf = [get_scaffold(smi) for smi in train[\"smiles\"]]\n",
    "external_test_scaf = [get_scaffold(smi) for smi in external_test[\"smiles\"]]\n",
    "df_scaf = [get_scaffold(smi) for smi in df[\"smiles\"]]\n"
   ]
  },
  {
   "cell_type": "code",
   "execution_count": null,
   "metadata": {},
   "outputs": [],
   "source": [
    "pd.Series(df_scaf).value_counts(sort=False).plot(kind='bar')"
   ]
  },
  {
   "cell_type": "code",
   "execution_count": null,
   "metadata": {},
   "outputs": [],
   "source": [
    "fis, ax=plt.subplots(1, 3, figsize=(15, 5))\n",
    "pd.Series(train_scaf).value_counts(sort=False).plot(kind='bar', ax=ax[0])"
   ]
  },
  {
   "cell_type": "code",
   "execution_count": 86,
   "metadata": {},
   "outputs": [],
   "source": [
    "df_scaf_uni = list(set(df_scaf))"
   ]
  },
  {
   "cell_type": "code",
   "execution_count": null,
   "metadata": {},
   "outputs": [],
   "source": [
    "#plot hist of df_scaf\n",
    "from collections import Counter\n",
    "#a=Counter(df_scaf)\n",
    "#print(a)\n",
    "import matplotlib.pyplot as plt\n",
    "plt.hist(np.array(df_scaf), bins=10)\n",
    "#plt.show()"
   ]
  },
  {
   "cell_type": "code",
   "execution_count": null,
   "metadata": {},
   "outputs": [],
   "source": [
    "print(len(df_scaf_uni))\n",
    "print(df.shape)\n",
    "print(len(df_scaf_uni)/df.shape[0])"
   ]
  },
  {
   "cell_type": "code",
   "execution_count": null,
   "metadata": {},
   "outputs": [],
   "source": [
    "train_scaf_uni = list(set(train_scaf))\n",
    "external_test_scaf_uni = list(set(external_test_scaf))\n",
    "\n",
    "print(len(train_scaf_uni))\n",
    "print(len(train_scaf_uni)/train.shape[0])\n",
    "print(len(external_test_scaf_uni))\n",
    "print(len(external_test_scaf_uni)/external_test.shape[0])\n",
    "\n",
    "print(set(train_scaf_uni).intersection(set(external_test_scaf_uni)))"
   ]
  },
  {
   "cell_type": "markdown",
   "metadata": {},
   "source": [
    "## Dataset (train/test) charactersitics"
   ]
  },
  {
   "cell_type": "code",
   "execution_count": null,
   "metadata": {},
   "outputs": [],
   "source": [
    "import json\n",
    "import seaborn as sns\n",
    "dataset_category=\"TDC\"\n",
    "dataset_names=\"HERG\"\n",
    "split_type=\"scaffold\"\n",
    "\n",
    "active_train= []\n",
    "active_test = []\n",
    "dataset_folder = os.path.join(DATASET_PATH, dataset_category, dataset_names, \"split\", split_type)\n",
    "\n",
    "with open(os.path.join(dataset_folder, \"config.json\"), \"r\") as f:\n",
    "    data_config = json.load(f)\n",
    "\n",
    "for i in range(10):\n",
    "    active_train.append(data_config[f\"train_actives_percentage_{i}\"])\n",
    "    active_test.append(data_config[f\"test_actives_percentage_{i}\"])\n",
    "\n",
    "#create df for sns plot\n",
    "df = pd.DataFrame()\n",
    "df['split'] = ['train'] *10 + ['test'] *10\n",
    "df['active'] = active_train + active_test\n",
    "df['id'] = list(range(10)) * 2\n",
    "\n",
    "#plot active train vs active test as a bar plot in the same figure\n",
    "fig, ax = plt.subplots(figsize=(10, 5))\n",
    "sns.barplot(x='id', y='active', data=df, ax=ax, hue='split')\n",
    "ax.set_ylabel(\"Active percentage\", fontsize=16)\n",
    "ax.set_xlabel(\"Split\", fontsize=16)\n",
    "ax.set_title(f\"Active percentage in train and test {split_type} splits\", fontsize=18)\n",
    "ax.grid(axis='y', linestyle='--', alpha=0.6)\n",
    "plt.show()"
   ]
  },
  {
   "cell_type": "code",
   "execution_count": null,
   "metadata": {},
   "outputs": [],
   "source": [
    "df"
   ]
  },
  {
   "cell_type": "markdown",
   "metadata": {},
   "source": [
    "# Plot performance of ID vs OOD"
   ]
  },
  {
   "cell_type": "code",
   "execution_count": 8,
   "metadata": {},
   "outputs": [
    {
     "name": "stdout",
     "output_type": "stream",
     "text": [
      "(1517, 2)\n",
      "(1517, 2)\n",
      "(1517, 2)\n",
      "(1517, 2)\n",
      "(1517, 2)\n",
      "(1517, 2)\n",
      "(1517, 2)\n",
      "(1517, 2)\n",
      "(1517, 2)\n",
      "(1517, 2)\n",
      "(1517, 2)\n",
      "(1517, 2)\n",
      "(1517, 2)\n",
      "(1517, 2)\n",
      "(1968, 2)\n",
      "(1968, 2)\n",
      "(1968, 2)\n",
      "(1968, 2)\n",
      "(1968, 2)\n",
      "(1968, 2)\n",
      "(1968, 2)\n",
      "(1968, 2)\n",
      "(1968, 2)\n",
      "(1968, 2)\n",
      "(1968, 2)\n",
      "(1968, 2)\n",
      "(1968, 2)\n",
      "(1968, 2)\n",
      "(1519, 2)\n",
      "(1519, 2)\n",
      "(1519, 2)\n",
      "(1519, 2)\n",
      "(1519, 2)\n",
      "(1519, 2)\n",
      "(1519, 2)\n",
      "(1519, 2)\n",
      "(1519, 2)\n",
      "(1519, 2)\n",
      "(1519, 2)\n",
      "(1519, 2)\n",
      "(1519, 2)\n",
      "(1519, 2)\n",
      "(1698, 2)\n",
      "(1698, 2)\n",
      "(1698, 2)\n",
      "(1698, 2)\n",
      "(1698, 2)\n",
      "(1698, 2)\n",
      "(1698, 2)\n",
      "(1698, 2)\n",
      "(1698, 2)\n",
      "(1698, 2)\n",
      "(1698, 2)\n",
      "(1698, 2)\n",
      "(1698, 2)\n",
      "(1698, 2)\n",
      "(1542, 2)\n",
      "(1542, 2)\n",
      "(1542, 2)\n",
      "(1542, 2)\n",
      "(1542, 2)\n",
      "(1542, 2)\n",
      "(1542, 2)\n",
      "(1542, 2)\n",
      "(1542, 2)\n",
      "(1542, 2)\n",
      "(1542, 2)\n",
      "(1542, 2)\n",
      "(1542, 2)\n",
      "(1542, 2)\n",
      "(1778, 2)\n",
      "(1778, 2)\n",
      "(1778, 2)\n",
      "(1778, 2)\n",
      "(1778, 2)\n",
      "(1778, 2)\n",
      "(1778, 2)\n",
      "(1778, 2)\n",
      "(1778, 2)\n",
      "(1778, 2)\n",
      "(1778, 2)\n",
      "(1778, 2)\n",
      "(1778, 2)\n",
      "(1778, 2)\n",
      "(1989, 2)\n",
      "(1989, 2)\n",
      "(1989, 2)\n",
      "(1989, 2)\n",
      "(1989, 2)\n",
      "(1989, 2)\n",
      "(1989, 2)\n",
      "(1989, 2)\n",
      "(1989, 2)\n",
      "(1989, 2)\n",
      "(1989, 2)\n",
      "(1989, 2)\n",
      "(1989, 2)\n",
      "(1989, 2)\n",
      "(1951, 2)\n",
      "(1951, 2)\n",
      "(1951, 2)\n",
      "(1951, 2)\n",
      "(1951, 2)\n",
      "(1951, 2)\n",
      "(1951, 2)\n",
      "(1951, 2)\n",
      "(1951, 2)\n",
      "(1951, 2)\n",
      "(1951, 2)\n",
      "(1951, 2)\n",
      "(1951, 2)\n",
      "(1951, 2)\n",
      "(1697, 2)\n",
      "(1697, 2)\n",
      "(1697, 2)\n",
      "(1697, 2)\n",
      "(1697, 2)\n",
      "(1697, 2)\n",
      "(1697, 2)\n",
      "(1697, 2)\n",
      "(1697, 2)\n",
      "(1697, 2)\n",
      "(1697, 2)\n",
      "(1697, 2)\n",
      "(1697, 2)\n",
      "(1697, 2)\n",
      "(1771, 2)\n",
      "(1771, 2)\n",
      "(1771, 2)\n",
      "(1771, 2)\n",
      "(1771, 2)\n",
      "(1771, 2)\n",
      "(1771, 2)\n",
      "(1771, 2)\n",
      "(1771, 2)\n",
      "(1771, 2)\n",
      "(1771, 2)\n",
      "(1771, 2)\n",
      "(1771, 2)\n",
      "(1771, 2)\n"
     ]
    }
   ],
   "source": [
    "from alinemol.utils.utils import compute_ID_OOD\n",
    "split_type=\"perimeter\"\n",
    "dataset_name=\"CYP2D6_TE02\"\n",
    "df = compute_ID_OOD(dataset_category=\"TDC\", dataset_names=dataset_name, split_type=split_type, num_of_splits=10)\n",
    "df.to_csv(os.path.join(\"classification_results\", \"TDC\", dataset_name, split_type, \"results.csv\"), index=False)"
   ]
  },
  {
   "cell_type": "code",
   "execution_count": 9,
   "metadata": {},
   "outputs": [],
   "source": [
    "split_type=\"scaffold\"\n",
    "results = pd.read_csv(os.path.join(\"classification_results\", \"TDC\", \"CYP2D6_TE02\", split_type, \"results.csv\"))"
   ]
  },
  {
   "cell_type": "code",
   "execution_count": 10,
   "metadata": {},
   "outputs": [
    {
     "data": {
      "text/plain": [
       "(130, 10)"
      ]
     },
     "execution_count": 10,
     "metadata": {},
     "output_type": "execute_result"
    }
   ],
   "source": [
    "results.shape"
   ]
  },
  {
   "cell_type": "code",
   "execution_count": 11,
   "metadata": {},
   "outputs": [],
   "source": [
    "#results = results.drop([80, 81, 82, 83, 84, 85, 86, 87, 88, 89])"
   ]
  },
  {
   "cell_type": "code",
   "execution_count": 18,
   "metadata": {},
   "outputs": [
    {
     "data": {
      "image/png": "[encoded data removed]",
      "text/plain": [
       "<Figure size 1000x600 with 1 Axes>"
      ]
     },
     "metadata": {},
     "output_type": "display_data"
    }
   ],
   "source": [
    "# barplot of the results (ID columns vs OOD Columns) for each model) in seaborn\n",
    "# change sns font and font size\n",
    "#sns.set_theme(style=\"whitegrid\", rc={\"text.usetex\": True, \"pgf.rcfonts\": False, \"font.serif\": \"Computer Modern Roman\", \"font.family\": \"serif\"})\n",
    "sns.set_palette(\"Set2\")\n",
    "\n",
    "tidy_1 = results.melt(id_vars=[\"model\"], value_vars=[\"ID_test_accuracy\", \"OOD_test_accuracy\"], var_name=\"split\", value_name=\"accuracy\")\n",
    "tidy_2 = results.melt(id_vars=[\"model\"], value_vars=[\"ID_test_roc_auc\", \"OOD_test_roc_auc\"], var_name=\"split\", value_name=\"roc_auc\")\n",
    "tidy3 = results.melt(id_vars=[\"model\"], value_vars=[\"ID_test_pr_auc\", \"OOD_test_pr_auc\"], var_name=\"split\", value_name=\"pr_auc\")\n",
    "\n",
    "\n",
    "fig, ax = plt.subplots(figsize=(10, 6), nrows=1, ncols=1)\n",
    "\n",
    "sns.barplot(y=\"model\", x=\"roc_auc\", hue=\"split\", data=tidy_2, ax=ax, orient=\"h\")\n",
    "#sns.barplot(x=\"model\", y=\"roc_auc\", hue=\"split\", data=tidy_2, ax=ax[1])\n",
    "#sns.barplot(x=\"model\", y=\"pr_auc\", hue=\"split\", data=tidy3, ax=ax[2])\n",
    "ax.grid(False, axis='y')\n",
    "ax.set_xlabel(\"ROC-AUC\", fontsize=20)\n",
    "ax.set_ylabel(\"Model\", fontsize=20)\n",
    "ax.set_xlim(0.5, 1.0)\n",
    "plt.show()\n"
   ]
  },
  {
   "cell_type": "code",
   "execution_count": 13,
   "metadata": {},
   "outputs": [
    {
     "data": {
      "text/plain": [
       "<pandas.core.groupby.generic.DataFrameGroupBy object at 0x790e646a7fa0>"
      ]
     },
     "execution_count": 13,
     "metadata": {},
     "output_type": "execute_result"
    }
   ],
   "source": [
    "results.groupby('model')"
   ]
  },
  {
   "cell_type": "code",
   "execution_count": 21,
   "metadata": {},
   "outputs": [
    {
     "data": {
      "image/png": "[encoded data removed]",
      "text/plain": [
       "<Figure size 1000x600 with 1 Axes>"
      ]
     },
     "metadata": {},
     "output_type": "display_data"
    },
    {
     "data": {
      "image/png": "[encoded data removed]",
      "text/plain": [
       "<Figure size 1000x600 with 1 Axes>"
      ]
     },
     "metadata": {},
     "output_type": "display_data"
    },
    {
     "data": {
      "image/png": "[encoded data removed]",
      "text/plain": [
       "<Figure size 1000x600 with 1 Axes>"
      ]
     },
     "metadata": {},
     "output_type": "display_data"
    }
   ],
   "source": [
    "metrics = ['accuracy', 'roc_auc', 'pr_auc']\n",
    "for metric in metrics:\n",
    "    tidy = results.melt(id_vars=[\"model\"], value_vars=[f\"ID_test_{metric}\", f\"OOD_test_{metric}\"], var_name=\"split\", value_name=metric)\n",
    "    fig, ax = plt.subplots(figsize=(10, 6), nrows=1, ncols=1)\n",
    "    sns.barplot(y=\"model\", x=metric, hue=\"split\", data=tidy, ax=ax, orient=\"h\")\n",
    "    ax.grid(True, axis='x', linestyle='--')\n",
    "    ax.spines['right'].set_visible(False)\n",
    "    ax.set_xlabel(metric, fontsize=20)\n",
    "    ax.set_ylabel(\"Model\", fontsize=20)\n",
    "    ax.set_xlim(0.5, 1.0)\n",
    "    ax.set_xticks(np.arange(0.5, 1.0, 0.05))\n",
    "    ax.set_title(f\"{metric} comparison between ID and OOD\", fontsize=20)\n",
    "    plt.show()"
   ]
  },
  {
   "cell_type": "code",
   "execution_count": 22,
   "metadata": {},
   "outputs": [],
   "source": [
    "metrics = ['accuracy', 'roc_auc', 'pr_auc']\n",
    "diff = []\n",
    "for metric in metrics:\n",
    "    results[f'diff_{metric}'] = results[f'ID_test_{metric}'] - results[f'OOD_test_{metric}']\n",
    "    diff.append(results.groupby('model')[f'diff_{metric}'].mean())"
   ]
  },
  {
   "cell_type": "code",
   "execution_count": 23,
   "metadata": {},
   "outputs": [],
   "source": [
    "diff = pd.concat(diff, axis=1)"
   ]
  },
  {
   "cell_type": "code",
   "execution_count": 24,
   "metadata": {},
   "outputs": [
    {
     "data": {
      "text/html": [
       "<div>\n",
       "<style scoped>\n",
       "    .dataframe tbody tr th:only-of-type {\n",
       "        vertical-align: middle;\n",
       "    }\n",
       "\n",
       "    .dataframe tbody tr th {\n",
       "        vertical-align: top;\n",
       "    }\n",
       "\n",
       "    .dataframe thead th {\n",
       "        text-align: right;\n",
       "    }\n",
       "</style>\n",
       "<table border=\"1\" class=\"dataframe\">\n",
       "  <thead>\n",
       "    <tr style=\"text-align: right;\">\n",
       "      <th></th>\n",
       "      <th>diff_accuracy</th>\n",
       "      <th>diff_roc_auc</th>\n",
       "      <th>diff_pr_auc</th>\n",
       "    </tr>\n",
       "    <tr>\n",
       "      <th>model</th>\n",
       "      <th></th>\n",
       "      <th></th>\n",
       "      <th></th>\n",
       "    </tr>\n",
       "  </thead>\n",
       "  <tbody>\n",
       "    <tr>\n",
       "      <th>AttentiveFP</th>\n",
       "      <td>0.004509</td>\n",
       "      <td>0.005891</td>\n",
       "      <td>0.017034</td>\n",
       "    </tr>\n",
       "    <tr>\n",
       "      <th>GAT</th>\n",
       "      <td>0.011906</td>\n",
       "      <td>0.011150</td>\n",
       "      <td>0.016804</td>\n",
       "    </tr>\n",
       "    <tr>\n",
       "      <th>GCN</th>\n",
       "      <td>0.001298</td>\n",
       "      <td>0.001291</td>\n",
       "      <td>-0.004057</td>\n",
       "    </tr>\n",
       "    <tr>\n",
       "      <th>MPNN</th>\n",
       "      <td>0.008207</td>\n",
       "      <td>0.001413</td>\n",
       "      <td>0.001418</td>\n",
       "    </tr>\n",
       "    <tr>\n",
       "      <th>NF</th>\n",
       "      <td>0.011353</td>\n",
       "      <td>0.010545</td>\n",
       "      <td>0.011500</td>\n",
       "    </tr>\n",
       "    <tr>\n",
       "      <th>SVM</th>\n",
       "      <td>-0.000492</td>\n",
       "      <td>0.000351</td>\n",
       "      <td>-0.001240</td>\n",
       "    </tr>\n",
       "    <tr>\n",
       "      <th>Weave</th>\n",
       "      <td>0.009944</td>\n",
       "      <td>0.010554</td>\n",
       "      <td>0.025287</td>\n",
       "    </tr>\n",
       "    <tr>\n",
       "      <th>XGB</th>\n",
       "      <td>0.003204</td>\n",
       "      <td>0.012430</td>\n",
       "      <td>0.014779</td>\n",
       "    </tr>\n",
       "    <tr>\n",
       "      <th>gin_supervised_contextpred</th>\n",
       "      <td>0.012257</td>\n",
       "      <td>0.010131</td>\n",
       "      <td>0.019004</td>\n",
       "    </tr>\n",
       "    <tr>\n",
       "      <th>gin_supervised_edgepred</th>\n",
       "      <td>0.003858</td>\n",
       "      <td>0.009516</td>\n",
       "      <td>0.012894</td>\n",
       "    </tr>\n",
       "    <tr>\n",
       "      <th>gin_supervised_infomax</th>\n",
       "      <td>-0.006364</td>\n",
       "      <td>0.000516</td>\n",
       "      <td>0.008705</td>\n",
       "    </tr>\n",
       "    <tr>\n",
       "      <th>gin_supervised_masking</th>\n",
       "      <td>0.011725</td>\n",
       "      <td>0.009218</td>\n",
       "      <td>0.015352</td>\n",
       "    </tr>\n",
       "    <tr>\n",
       "      <th>randomForest</th>\n",
       "      <td>0.002270</td>\n",
       "      <td>0.007856</td>\n",
       "      <td>0.010072</td>\n",
       "    </tr>\n",
       "  </tbody>\n",
       "</table>\n",
       "</div>"
      ],
      "text/plain": [
       "                            diff_accuracy  diff_roc_auc  diff_pr_auc\n",
       "model                                                               \n",
       "AttentiveFP                      0.004509      0.005891     0.017034\n",
       "GAT                              0.011906      0.011150     0.016804\n",
       "GCN                              0.001298      0.001291    -0.004057\n",
       "MPNN                             0.008207      0.001413     0.001418\n",
       "NF                               0.011353      0.010545     0.011500\n",
       "SVM                             -0.000492      0.000351    -0.001240\n",
       "Weave                            0.009944      0.010554     0.025287\n",
       "XGB                              0.003204      0.012430     0.014779\n",
       "gin_supervised_contextpred       0.012257      0.010131     0.019004\n",
       "gin_supervised_edgepred          0.003858      0.009516     0.012894\n",
       "gin_supervised_infomax          -0.006364      0.000516     0.008705\n",
       "gin_supervised_masking           0.011725      0.009218     0.015352\n",
       "randomForest                     0.002270      0.007856     0.010072"
      ]
     },
     "execution_count": 24,
     "metadata": {},
     "output_type": "execute_result"
    }
   ],
   "source": [
    "diff"
   ]
  },
  {
   "cell_type": "code",
   "execution_count": 25,
   "metadata": {},
   "outputs": [
    {
     "data": {
      "image/png": "[encoded data removed]",
      "text/plain": [
       "<Figure size 1000x600 with 1 Axes>"
      ]
     },
     "metadata": {},
     "output_type": "display_data"
    }
   ],
   "source": [
    "fig, ax = plt.subplots(figsize=(10, 6), nrows=1, ncols=1)\n",
    "diff.plot(kind='barh', ax=ax)\n",
    "ax.set_xlabel(\"Difference\", fontsize=20)\n",
    "ax.set_ylabel(\"Model\", fontsize=20)\n",
    "ax.grid(True, axis='x', linestyle='--')\n",
    "ax.spines['right'].set_visible(False)\n",
    "plt.show()"
   ]
  },
  {
   "cell_type": "code",
   "execution_count": 26,
   "metadata": {},
   "outputs": [],
   "source": [
    "ML_MODELS = ['randomForest', 'SVM', 'XGB']\n",
    "GNN_MODELS = [\"GCN\",\n",
    "        \"GAT\",\n",
    "        \"Weave\",\n",
    "        \"MPNN\",\n",
    "        \"AttentiveFP\",\n",
    "        \"NF\",]\n",
    "\n",
    "PRETRAINED_GNN_MODELS = [\"gin_supervised_contextpred\", \"gin_supervised_edgepred\", \"gin_supervised_masking\", \"gin_supervised_infomax\"]\n",
    "ALL_MODELS = [ML_MODELS,  GNN_MODELS, PRETRAINED_GNN_MODELS]"
   ]
  },
  {
   "cell_type": "code",
   "execution_count": 27,
   "metadata": {},
   "outputs": [],
   "source": [
    "# I want to have diff for ML_MODELS, GNN_MODELS, PRETRAINED_GNN_MODELS separately, and then plot them together\n",
    "split_type=\"scaffold\"\n",
    "dataset_name=\"CYP2D6_TE02\"\n",
    "diff = []\n",
    "for models in ALL_MODELS:\n",
    "    results = pd.read_csv(os.path.join(\"classification_results\", \"TDC\", dataset_name, split_type, \"results.csv\"))\n",
    "    results = results[results['model'].isin(models)]\n",
    "    metrics = ['accuracy', 'roc_auc', 'pr_auc']\n",
    "    diff_models = []\n",
    "    for metric in metrics:\n",
    "        results[f'diff_{metric}'] = results[f'ID_test_{metric}'] - results[f'OOD_test_{metric}']\n",
    "        diff_models.append(results.groupby('model')[f'diff_{metric}'].mean())\n",
    "    diff_models = pd.concat(diff_models, axis=1)\n",
    "    diff.append(diff_models)"
   ]
  },
  {
   "cell_type": "code",
   "execution_count": 28,
   "metadata": {},
   "outputs": [
    {
     "data": {
      "text/html": [
       "<div>\n",
       "<style scoped>\n",
       "    .dataframe tbody tr th:only-of-type {\n",
       "        vertical-align: middle;\n",
       "    }\n",
       "\n",
       "    .dataframe tbody tr th {\n",
       "        vertical-align: top;\n",
       "    }\n",
       "\n",
       "    .dataframe thead th {\n",
       "        text-align: right;\n",
       "    }\n",
       "</style>\n",
       "<table border=\"1\" class=\"dataframe\">\n",
       "  <thead>\n",
       "    <tr style=\"text-align: right;\">\n",
       "      <th></th>\n",
       "      <th>diff_accuracy</th>\n",
       "      <th>diff_roc_auc</th>\n",
       "      <th>diff_pr_auc</th>\n",
       "    </tr>\n",
       "    <tr>\n",
       "      <th>model</th>\n",
       "      <th></th>\n",
       "      <th></th>\n",
       "      <th></th>\n",
       "    </tr>\n",
       "  </thead>\n",
       "  <tbody>\n",
       "    <tr>\n",
       "      <th>SVM</th>\n",
       "      <td>-0.000492</td>\n",
       "      <td>0.000351</td>\n",
       "      <td>-0.001240</td>\n",
       "    </tr>\n",
       "    <tr>\n",
       "      <th>XGB</th>\n",
       "      <td>0.003204</td>\n",
       "      <td>0.012430</td>\n",
       "      <td>0.014779</td>\n",
       "    </tr>\n",
       "    <tr>\n",
       "      <th>randomForest</th>\n",
       "      <td>0.002270</td>\n",
       "      <td>0.007856</td>\n",
       "      <td>0.010072</td>\n",
       "    </tr>\n",
       "  </tbody>\n",
       "</table>\n",
       "</div>"
      ],
      "text/plain": [
       "              diff_accuracy  diff_roc_auc  diff_pr_auc\n",
       "model                                                 \n",
       "SVM               -0.000492      0.000351    -0.001240\n",
       "XGB                0.003204      0.012430     0.014779\n",
       "randomForest       0.002270      0.007856     0.010072"
      ]
     },
     "execution_count": 28,
     "metadata": {},
     "output_type": "execute_result"
    }
   ],
   "source": [
    "diff[0]"
   ]
  },
  {
   "cell_type": "code",
   "execution_count": 29,
   "metadata": {},
   "outputs": [
    {
     "data": {
      "text/plain": [
       "diff_accuracy    0.005369\n",
       "diff_roc_auc     0.007345\n",
       "diff_pr_auc      0.013989\n",
       "dtype: float64"
      ]
     },
     "execution_count": 29,
     "metadata": {},
     "output_type": "execute_result"
    }
   ],
   "source": [
    "diff[0].mean(axis=0) # ML_MODELS\n",
    "diff[1].mean(axis=0) # GNN_MODELS\n",
    "diff[2].mean(axis=0) # PRETRAINED_GNN_MODELS\n",
    "\n",
    "#concat the diff[0], diff[1], and diff[2] and plot them\n"
   ]
  },
  {
   "cell_type": "code",
   "execution_count": 30,
   "metadata": {},
   "outputs": [
    {
     "data": {
      "text/html": [
       "<div>\n",
       "<style scoped>\n",
       "    .dataframe tbody tr th:only-of-type {\n",
       "        vertical-align: middle;\n",
       "    }\n",
       "\n",
       "    .dataframe tbody tr th {\n",
       "        vertical-align: top;\n",
       "    }\n",
       "\n",
       "    .dataframe thead th {\n",
       "        text-align: right;\n",
       "    }\n",
       "</style>\n",
       "<table border=\"1\" class=\"dataframe\">\n",
       "  <thead>\n",
       "    <tr style=\"text-align: right;\">\n",
       "      <th></th>\n",
       "      <th>diff_accuracy</th>\n",
       "      <th>diff_roc_auc</th>\n",
       "      <th>diff_pr_auc</th>\n",
       "    </tr>\n",
       "  </thead>\n",
       "  <tbody>\n",
       "    <tr>\n",
       "      <th>ML_MODELS</th>\n",
       "      <td>0.001661</td>\n",
       "      <td>0.006879</td>\n",
       "      <td>0.007870</td>\n",
       "    </tr>\n",
       "    <tr>\n",
       "      <th>GNN_MODELS</th>\n",
       "      <td>0.007869</td>\n",
       "      <td>0.006807</td>\n",
       "      <td>0.011331</td>\n",
       "    </tr>\n",
       "    <tr>\n",
       "      <th>PRETRAINED_GNN_MODELS</th>\n",
       "      <td>0.005369</td>\n",
       "      <td>0.007345</td>\n",
       "      <td>0.013989</td>\n",
       "    </tr>\n",
       "  </tbody>\n",
       "</table>\n",
       "</div>"
      ],
      "text/plain": [
       "                       diff_accuracy  diff_roc_auc  diff_pr_auc\n",
       "ML_MODELS                   0.001661      0.006879     0.007870\n",
       "GNN_MODELS                  0.007869      0.006807     0.011331\n",
       "PRETRAINED_GNN_MODELS       0.005369      0.007345     0.013989"
      ]
     },
     "execution_count": 30,
     "metadata": {},
     "output_type": "execute_result"
    }
   ],
   "source": [
    "mean_df = pd.DataFrame([diff[0].mean(axis=0), diff[1].mean(axis=0), diff[2].mean(axis=0)], index=[\"ML_MODELS\", \"GNN_MODELS\", \"PRETRAINED_GNN_MODELS\"])\n",
    "mean_df"
   ]
  },
  {
   "cell_type": "code",
   "execution_count": 31,
   "metadata": {},
   "outputs": [
    {
     "data": {
      "image/png": "[encoded data removed]",
      "text/plain": [
       "<Figure size 1000x600 with 1 Axes>"
      ]
     },
     "metadata": {},
     "output_type": "display_data"
    }
   ],
   "source": [
    "# plot the diff_roc_auc for ML_MODELS, GNN_MODELS, PRETRAINED_GNN_MODELS separately alongside each other\n",
    "fig, ax = plt.subplots(figsize=(10, 6), nrows=1, ncols=1)\n",
    "mean_df.plot(kind='bar', ax=ax)\n",
    "ax.set_xlabel(\"Model\", fontsize=20)\n",
    "ax.set_ylabel(\"Difference\", fontsize=20)\n",
    "ax.grid(True, axis='y', linestyle='--')\n",
    "plt.show()\n"
   ]
  },
  {
   "cell_type": "code",
   "execution_count": null,
   "metadata": {},
   "outputs": [],
   "source": [
    "results.groupby('model')['ID_test_roc_auc'].mean() -  results.groupby('model')['OOD_test_roc_auc'].mean()"
   ]
  },
  {
   "cell_type": "code",
   "execution_count": null,
   "metadata": {},
   "outputs": [],
   "source": [
    "results.groupby('model')['ID_test_pr_auc'].mean() -  results.groupby('model')['OOD_test_pr_auc'].mean()"
   ]
  },
  {
   "cell_type": "code",
   "execution_count": null,
   "metadata": {},
   "outputs": [],
   "source": [
    "diff"
   ]
  },
  {
   "cell_type": "code",
   "execution_count": null,
   "metadata": {},
   "outputs": [],
   "source": [
    "# grouped bar plot of ID_test_accuracy vs OOD_test_accuracy for each model in the results dataframe alongsilde each other\n",
    "fig, ax = plt.subplots(1, 1, figsize=(14, 6))\n",
    "sns.set_theme(style=\"whitegrid\", rc={\"text.usetex\": True, \"pgf.rcfonts\": False, \"font.serif\": \"Computer Modern Roman\", \"font.family\": \"serif\"})\n",
    "results = results[['model', 'ID_test_accuracy', 'OOD_test_accuracy', 'ID_test_roc_auc', 'OOD_test_roc_auc', 'ID_test_pr_auc', 'OOD_test_pr_auc']]\n",
    "results.groupby('model').mean().plot(kind='bar', y=['ID_test_accuracy', 'OOD_test_accuracy'], ax=ax, edgecolor='black', linewidth=1, fontsize=20)\n",
    "ax.grid(False, axis='x')\n",
    "ax.set_xlabel(\"Model\", fontsize=24)\n",
    "ax.set_ylabel(\"Accuracy\", fontsize=24)\n",
    "ax.set_ylim(0.5, 0.8)"
   ]
  },
  {
   "cell_type": "code",
   "execution_count": null,
   "metadata": {},
   "outputs": [],
   "source": [
    "results"
   ]
  },
  {
   "cell_type": "code",
   "execution_count": 351,
   "metadata": {},
   "outputs": [],
   "source": [
    "dataset_category=\"TDC\"\n",
    "dataset_names=\"CYP2C19\"\n",
    "split_types=[\"scaffold\", \"molecular_weight\", \"kmeans\", \"max_dissimilarity\", \"perimeter\"]\n",
    "models = [\"GCN\", \"GAT\", \"Weave\", \"MPNN\", \"AttentiveFP\", \"NF\", \"gin_supervised_contextpred\", \"gin_supervised_edgepred\", \"gin_supervised_masking\", \"gin_supervised_infomax\", \"randomForest\", \"SVM\", \"XGB\"]\n",
    "\n",
    "## there is result.csv in each of the folder. I want to compine them and concatanate rows of the results\n",
    "results = []\n",
    "for split_type in split_types:\n",
    "    results.append(pd.read_csv(os.path.join(\"classification_results\", dataset_category, dataset_names, split_type, \"results.csv\")))\n",
    "results = pd.concat(results)\n",
    "results.to_csv(os.path.join(\"classification_results\", dataset_category, dataset_names, \"results.csv\"), index=False)"
   ]
  },
  {
   "cell_type": "code",
   "execution_count": 394,
   "metadata": {},
   "outputs": [],
   "source": [
    "dataset_category=\"TDC\"\n",
    "dataset_names=\"CYP3A4\"\n",
    "results = pd.read_csv(os.path.join(\"classification_results\", dataset_category, dataset_names, \"results.csv\"))"
   ]
  },
  {
   "cell_type": "code",
   "execution_count": 395,
   "metadata": {},
   "outputs": [],
   "source": [
    "# First gropuby by splits and then comute the mean and std of accuarcy, roc_auc and pr_auc colums\n",
    "dff =results.groupby('split')[['ID_test_accuracy', 'OOD_test_accuracy', 'ID_test_roc_auc', 'OOD_test_roc_auc', 'ID_test_pr_auc', 'OOD_test_pr_auc']].agg(['mean', 'std'])"
   ]
  },
  {
   "cell_type": "code",
   "execution_count": null,
   "metadata": {},
   "outputs": [],
   "source": [
    "dff"
   ]
  },
  {
   "cell_type": "code",
   "execution_count": null,
   "metadata": {},
   "outputs": [],
   "source": [
    "results.groupby('split')[['ID_test_accuracy', 'OOD_test_accuracy', 'ID_test_roc_auc', 'OOD_test_roc_auc', 'ID_test_pr_auc', 'OOD_test_pr_auc']].mean()"
   ]
  },
  {
   "cell_type": "code",
   "execution_count": null,
   "metadata": {},
   "outputs": [],
   "source": [
    "dff"
   ]
  },
  {
   "cell_type": "code",
   "execution_count": null,
   "metadata": {},
   "outputs": [],
   "source": [
    "results.groupby('split')['test_size'].mean()"
   ]
  },
  {
   "cell_type": "code",
   "execution_count": 398,
   "metadata": {},
   "outputs": [],
   "source": [
    "# combine results for all the datasets in the TDC folder\n",
    "dataset_category=\"TDC\"\n",
    "datasets = os.listdir(os.path.join(\"classification_results\", dataset_category))\n",
    "results = []\n",
    "for dataset in datasets:\n",
    "    results.append(pd.read_csv(os.path.join(\"classification_results\", dataset_category, dataset, \"results.csv\")))\n",
    "\n",
    "results = pd.concat(results)\n",
    "\n",
    "results.to_csv(os.path.join(\"classification_results\", dataset_category, \"results.csv\"), index=False)\n"
   ]
  },
  {
   "cell_type": "code",
   "execution_count": null,
   "metadata": {},
   "outputs": [],
   "source": [
    "results.groupby('dataset')['ID_test_roc_auc'].mean()"
   ]
  },
  {
   "cell_type": "markdown",
   "metadata": {},
   "source": [
    "## Analysis of the performance of ID vs OOD"
   ]
  },
  {
   "cell_type": "code",
   "execution_count": 38,
   "metadata": {},
   "outputs": [],
   "source": [
    "results = pd.read_csv(os.path.join(\"classification_results\", \"TDC\", \"results.csv\"))"
   ]
  },
  {
   "cell_type": "code",
   "execution_count": null,
   "metadata": {},
   "outputs": [],
   "source": [
    "## First, lets have a look on the absolute performance of in distribution on all the datasets\n",
    "results.groupby('dataset')['ID_test_roc_auc'].mean().plot(kind='bar', figsize=(10, 6))\n",
    "plt.ylabel(\"ROC-AUC\", fontsize=20)\n",
    "plt.show()"
   ]
  },
  {
   "cell_type": "code",
   "execution_count": null,
   "metadata": {},
   "outputs": [],
   "source": [
    "## First, lets have a look on the absolute performance of in distribution on all the datasets\n",
    "results.groupby('dataset')['ID_test_accuracy'].mean().plot(kind='bar', figsize=(10, 6))\n",
    "plt.ylabel(\"ACC\", fontsize=20)\n",
    "plt.show()"
   ]
  },
  {
   "cell_type": "code",
   "execution_count": null,
   "metadata": {},
   "outputs": [],
   "source": [
    "## First, lets have a look on the absolute performance of in distribution on all the datasets\n",
    "results.groupby('dataset')['ID_test_pr_auc'].mean().plot(kind='bar', figsize=(10, 6))\n",
    "plt.ylabel(\"PR-AUC\", fontsize=20)\n",
    "plt.show()"
   ]
  },
  {
   "cell_type": "code",
   "execution_count": null,
   "metadata": {},
   "outputs": [],
   "source": [
    "## Then lets compare the performance drop for each dataset acroos each split\n",
    "results.groupby('dataset')['ID_test_roc_auc'].mean() - results.groupby('dataset')['OOD_test_roc_auc'].mean()"
   ]
  },
  {
   "cell_type": "code",
   "execution_count": 420,
   "metadata": {},
   "outputs": [],
   "source": [
    "a=results.groupby(['dataset', 'split'])['ID_test_roc_auc'].mean() - results.groupby(['dataset', 'split'])['OOD_test_roc_auc'].mean()"
   ]
  },
  {
   "cell_type": "code",
   "execution_count": null,
   "metadata": {},
   "outputs": [],
   "source": [
    "# Just pick the scaffold split from all the spli in the dataframe\n",
    "b=results[results['split']=='scaffold']\n",
    "b.groupby('dataset')['ID_test_roc_auc'].mean() - b.groupby('dataset')['OOD_test_roc_auc'].mean()"
   ]
  }
 ],
 "metadata": {
  "kernelspec": {
   "display_name": "pytorch",
   "language": "python",
   "name": "python3"
  },
  "language_info": {
   "codemirror_mode": {
    "name": "ipython",
    "version": 3
   },
   "file_extension": ".py",
   "mimetype": "text/x-python",
   "name": "python",
   "nbconvert_exporter": "python",
   "pygments_lexer": "ipython3",
   "version": "3.10.12"
  }
 },
 "nbformat": 4,
 "nbformat_minor": 2
}
