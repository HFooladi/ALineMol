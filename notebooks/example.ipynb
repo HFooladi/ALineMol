{
 "cells": [
  {
   "cell_type": "markdown",
   "metadata": {},
   "source": [
    "# Import libraries"
   ]
  },
  {
   "cell_type": "code",
   "execution_count": 1,
   "metadata": {},
   "outputs": [],
   "source": [
    "import os\n",
    "import sys\n",
    "import numpy as np\n",
    "import pandas as pd\n",
    "\n",
    "\n",
    "\n",
    "repo_path = os.path.dirname(os.path.abspath(\"\"))\n",
    "CHECKOUT_PATH = repo_path\n",
    "DATASET_PATH = os.path.join(repo_path, \"datasets\")\n",
    "\n",
    "os.chdir(CHECKOUT_PATH)\n",
    "sys.path.insert(0, CHECKOUT_PATH)"
   ]
  },
  {
   "cell_type": "code",
   "execution_count": 2,
   "metadata": {},
   "outputs": [],
   "source": [
    "# import visualization packages\n",
    "import matplotlib\n",
    "import matplotlib.pyplot as plt\n",
    "import seaborn as sns\n",
    "from sklearn.manifold import TSNE\n",
    "import pandas as pd\n",
    "import astartes as at\n",
    "from astartes import train_test_split, train_val_test_split\n",
    "\n",
    "from ALineMol.utils import eval_roc_auc, eval_pr_auc, eval_acc\n",
    "from ALineMol.utils import plot_ID_OOD\n",
    "from ALineMol.utils import split_molecules_train_test, split_molecules_train_val_test\n",
    "\n",
    "light_color = plt.get_cmap(\"plasma\").colors[170]\n",
    "dark_color = \"black\"\n",
    "\n",
    "#matplotlib.use(\"pgf\")\n",
    "\n",
    "matplotlib.rcParams.update(\n",
    "    {\n",
    "        \"pgf.texsystem\": \"pdflatex\",\n",
    "        \"font.family\": \"serif\",\n",
    "        \"font.serif\": \"Computer Modern Roman\",\n",
    "        \"font.size\": 16,\n",
    "        \"text.usetex\": True,\n",
    "        \"pgf.rcfonts\": False,\n",
    "    }\n",
    ")"
   ]
  },
  {
   "cell_type": "markdown",
   "metadata": {},
   "source": [
    "# Load Data and Split into Train and Test Sets "
   ]
  },
  {
   "cell_type": "code",
   "execution_count": 4,
   "metadata": {},
   "outputs": [
    {
     "data": {
      "text/plain": [
       "(37014, 2)"
      ]
     },
     "execution_count": 4,
     "metadata": {},
     "output_type": "execute_result"
    }
   ],
   "source": [
    "DF_PATH = os.path.join(DATASET_PATH, \"MoleculeNet\", \"HIV\", \"split\", \"scaffold\", \"train.csv\")\n",
    "df = pd.read_csv(DF_PATH)\n",
    "df.shape"
   ]
  },
  {
   "cell_type": "code",
   "execution_count": 57,
   "metadata": {},
   "outputs": [
    {
     "data": {
      "text/plain": [
       "(41127, 2)"
      ]
     },
     "execution_count": 57,
     "metadata": {},
     "output_type": "execute_result"
    }
   ],
   "source": [
    "DF_PATH = os.path.join(DATASET_PATH, \"MoleculeNet\", \"HIV\", \"HIV_simplified.csv\")\n",
    "df = pd.read_csv(DF_PATH)\n",
    "df.shape"
   ]
  },
  {
   "cell_type": "code",
   "execution_count": 63,
   "metadata": {},
   "outputs": [],
   "source": [
    "## Removing molecule with \"DATIVE\" bond type which can be problematic for the GNN models\n",
    "df.drop([35278], inplace=True)"
   ]
  },
  {
   "cell_type": "code",
   "execution_count": 64,
   "metadata": {},
   "outputs": [
    {
     "name": "stdout",
     "output_type": "stream",
     "text": [
      "(41126, 2)\n"
     ]
    }
   ],
   "source": [
    "print(df.shape)"
   ]
  },
  {
   "cell_type": "code",
   "execution_count": 75,
   "metadata": {},
   "outputs": [],
   "source": [
    "df_balanced = pd.concat([df[df['label'] == 0].sample(2000), df[df['label'] == 1]]).sample(frac=1)"
   ]
  },
  {
   "cell_type": "code",
   "execution_count": 77,
   "metadata": {},
   "outputs": [],
   "source": [
    "df_balanced.to_csv(os.path.join(DATASET_PATH, \"MoleculeNet\", \"HIV\", \"HIV_balanced.csv\"), index=False)"
   ]
  },
  {
   "cell_type": "code",
   "execution_count": 5,
   "metadata": {},
   "outputs": [],
   "source": [
    "df = pd.read_csv(os.path.join(DATASET_PATH, \"MoleculeNet\", \"HIV\", \"HIV_balanced.csv\"))"
   ]
  },
  {
   "cell_type": "code",
   "execution_count": 6,
   "metadata": {},
   "outputs": [],
   "source": [
    "#new_df = df[['smiles', 'HIV_active']]\n",
    "#new_df.columns = ['smiles', 'label']"
   ]
  },
  {
   "cell_type": "code",
   "execution_count": 6,
   "metadata": {},
   "outputs": [
    {
     "data": {
      "image/png": "[encoded data removed]",
      "text/plain": [
       "<Figure size 600x400 with 1 Axes>"
      ]
     },
     "metadata": {},
     "output_type": "display_data"
    }
   ],
   "source": [
    "labels, counts = np.unique(df['label'], return_counts=True)\n",
    "plt.figure(figsize=(6, 4))\n",
    "plt.bar(labels, counts, align='center', width=0.4, color=light_color)\n",
    "plt.xlabel(\"Label\")\n",
    "plt.ylabel(\"Count\")\n",
    "plt.title(\"HIV Dataset (MoleculeNet)\")\n",
    "plt.xticks([0, 1], [\"Inactive\", \"Active\"])\n",
    "plt.grid(True, axis='y')\n",
    "\n",
    "#plt.savefig(os.path.join(repo_path, \"assets\", \"hiv_dataset.pdf\"), bbox_inches='tight', backend='pgf')\n",
    "plt.show()"
   ]
  },
  {
   "cell_type": "code",
   "execution_count": 8,
   "metadata": {},
   "outputs": [],
   "source": [
    "X = np.array(df['smiles'])\n",
    "y= np.array(df['label'])"
   ]
  },
  {
   "cell_type": "code",
   "execution_count": 7,
   "metadata": {},
   "outputs": [],
   "source": [
    "SPLIT_PATH = os.path.join(DATASET_PATH, \"MoleculeNet\", \"HIV\", \"split\")"
   ]
  },
  {
   "cell_type": "code",
   "execution_count": 9,
   "metadata": {},
   "outputs": [
    {
     "name": "stderr",
     "output_type": "stream",
     "text": [
      "/home/scholz/miniconda3/envs/pytorch/lib/python3.10/site-packages/astartes/samplers/extrapolation/scaffold.py:44: NoMatchingScaffold: No matching scaffold was found for the 103 molecules corresponding to indices {516, 2564, 3076, 1545, 2064, 2580, 21, 2077, 2595, 43, 2092, 2094, 48, 2609, 2615, 568, 3130, 61, 1089, 3141, 2558, 588, 1614, 593, 2132, 601, 602, 603, 1115, 1116, 1629, 2145, 623, 645, 2181, 2182, 137, 3213, 654, 1170, 3221, 1178, 2715, 2720, 1699, 1705, 3243, 1202, 708, 1740, 719, 721, 214, 1244, 741, 238, 1267, 2808, 1800, 2317, 3352, 3359, 2851, 2343, 1321, 2859, 301, 2352, 818, 819, 1842, 1333, 827, 844, 858, 2396, 1892, 2405, 1385, 874, 2421, 2431, 392, 905, 1418, 1420, 919, 2968, 928, 2467, 420, 2979, 2988, 959, 1992, 465, 2006, 2010, 3051, 1522, 2550, 2043, 1022}\n",
      "  warnings.warn(\n"
     ]
    }
   ],
   "source": [
    "train, external_test = split_molecules_train_test(df, train_size=0.9, sampler=\"scaffold\", random_state=42)"
   ]
  },
  {
   "cell_type": "code",
   "execution_count": 24,
   "metadata": {},
   "outputs": [
    {
     "name": "stdout",
     "output_type": "stream",
     "text": [
      "0.4220716360116166\n",
      "0.39244186046511625\n"
     ]
    }
   ],
   "source": [
    "print(train['label'].sum() / train['label'].shape[0])\n",
    "print(external_test['label'].sum() / external_test['label'].shape[0])"
   ]
  },
  {
   "cell_type": "code",
   "execution_count": 29,
   "metadata": {},
   "outputs": [
    {
     "data": {
      "text/plain": [
       "(3443,)"
      ]
     },
     "execution_count": 29,
     "metadata": {},
     "output_type": "execute_result"
    }
   ],
   "source": [
    "df['label'].shape"
   ]
  },
  {
   "cell_type": "code",
   "execution_count": 18,
   "metadata": {},
   "outputs": [],
   "source": [
    "#train, val, test = split_molecules_train_val_test(train, train_size=0.7, val_size=0.15, sampler=\"random\", random_state=42)"
   ]
  },
  {
   "cell_type": "code",
   "execution_count": 19,
   "metadata": {},
   "outputs": [
    {
     "name": "stdout",
     "output_type": "stream",
     "text": [
      "(25910, 2) (5552, 2) (5553, 2) (4112, 2)\n"
     ]
    }
   ],
   "source": [
    "#print(train.shape, val.shape, test.shape, external_test.shape)"
   ]
  },
  {
   "cell_type": "code",
   "execution_count": 14,
   "metadata": {},
   "outputs": [],
   "source": [
    "train.to_csv(os.path.join(SPLIT_PATH, \"scaffold\", \"train_blanced.csv\"), index=False)\n",
    "external_test.to_csv(os.path.join(SPLIT_PATH, \"scaffold\", \"external_test_balanced.csv\"), index=False)"
   ]
  },
  {
   "cell_type": "code",
   "execution_count": 15,
   "metadata": {},
   "outputs": [
    {
     "data": {
      "text/html": [
       "<div>\n",
       "<style scoped>\n",
       "    .dataframe tbody tr th:only-of-type {\n",
       "        vertical-align: middle;\n",
       "    }\n",
       "\n",
       "    .dataframe tbody tr th {\n",
       "        vertical-align: top;\n",
       "    }\n",
       "\n",
       "    .dataframe thead th {\n",
       "        text-align: right;\n",
       "    }\n",
       "</style>\n",
       "<table border=\"1\" class=\"dataframe\">\n",
       "  <thead>\n",
       "    <tr style=\"text-align: right;\">\n",
       "      <th></th>\n",
       "      <th>smiles</th>\n",
       "      <th>label</th>\n",
       "    </tr>\n",
       "  </thead>\n",
       "  <tbody>\n",
       "    <tr>\n",
       "      <th>0</th>\n",
       "      <td>CC(CCC1=NCCN1)C1CCC2C3CCC4CC(O)CCC4(C)C3CCC12C</td>\n",
       "      <td>0</td>\n",
       "    </tr>\n",
       "    <tr>\n",
       "      <th>1</th>\n",
       "      <td>CC(CCC1=NCCN1)C1CCC2C3C(O)CC4CC(O)CCC4(C)C3CCC12C</td>\n",
       "      <td>0</td>\n",
       "    </tr>\n",
       "    <tr>\n",
       "      <th>2</th>\n",
       "      <td>CC(CCC1=NCCN1)C1CCC2C3CCC4CC(O)CCC4(C)C3CC(O)C12C</td>\n",
       "      <td>0</td>\n",
       "    </tr>\n",
       "    <tr>\n",
       "      <th>3</th>\n",
       "      <td>C=C(CC1CCCS(=O)(=O)C1)S(=O)(=O)c1ccc(C)cc1</td>\n",
       "      <td>0</td>\n",
       "    </tr>\n",
       "    <tr>\n",
       "      <th>4</th>\n",
       "      <td>O=S(=O)(c1ccccc1)C1CC(c2nc3ccccc3[nH]2)=NO1</td>\n",
       "      <td>0</td>\n",
       "    </tr>\n",
       "    <tr>\n",
       "      <th>...</th>\n",
       "      <td>...</td>\n",
       "      <td>...</td>\n",
       "    </tr>\n",
       "    <tr>\n",
       "      <th>37010</th>\n",
       "      <td>COC(=O)C1=C(c2ccccc2)c2ccccc2C(=O)N(C2CCCCC2)C=C1</td>\n",
       "      <td>0</td>\n",
       "    </tr>\n",
       "    <tr>\n",
       "      <th>37011</th>\n",
       "      <td>CC1C(N2CCCCC2)N(C(=O)c2ccccc2)SC12c1ccccc1-c1c...</td>\n",
       "      <td>0</td>\n",
       "    </tr>\n",
       "    <tr>\n",
       "      <th>37012</th>\n",
       "      <td>CCOC(=O)NC(=O)c1cn(CCN2CCNCC2)c(=O)[nH]c1=O</td>\n",
       "      <td>0</td>\n",
       "    </tr>\n",
       "    <tr>\n",
       "      <th>37013</th>\n",
       "      <td>O=C(O)c1c2c(cc3c(=O)cc(-c4ccccc4)oc13)CCCC2</td>\n",
       "      <td>0</td>\n",
       "    </tr>\n",
       "    <tr>\n",
       "      <th>37014</th>\n",
       "      <td>COc1cc(C(=O)NC(CCN)(c2ccccc2)c2ccccc2)cc(OC)c1OC</td>\n",
       "      <td>0</td>\n",
       "    </tr>\n",
       "  </tbody>\n",
       "</table>\n",
       "<p>37015 rows × 2 columns</p>\n",
       "</div>"
      ],
      "text/plain": [
       "                                                  smiles  label\n",
       "0         CC(CCC1=NCCN1)C1CCC2C3CCC4CC(O)CCC4(C)C3CCC12C      0\n",
       "1      CC(CCC1=NCCN1)C1CCC2C3C(O)CC4CC(O)CCC4(C)C3CCC12C      0\n",
       "2      CC(CCC1=NCCN1)C1CCC2C3CCC4CC(O)CCC4(C)C3CC(O)C12C      0\n",
       "3             C=C(CC1CCCS(=O)(=O)C1)S(=O)(=O)c1ccc(C)cc1      0\n",
       "4            O=S(=O)(c1ccccc1)C1CC(c2nc3ccccc3[nH]2)=NO1      0\n",
       "...                                                  ...    ...\n",
       "37010  COC(=O)C1=C(c2ccccc2)c2ccccc2C(=O)N(C2CCCCC2)C=C1      0\n",
       "37011  CC1C(N2CCCCC2)N(C(=O)c2ccccc2)SC12c1ccccc1-c1c...      0\n",
       "37012        CCOC(=O)NC(=O)c1cn(CCN2CCNCC2)c(=O)[nH]c1=O      0\n",
       "37013        O=C(O)c1c2c(cc3c(=O)cc(-c4ccccc4)oc13)CCCC2      0\n",
       "37014   COc1cc(C(=O)NC(CCN)(c2ccccc2)c2ccccc2)cc(OC)c1OC      0\n",
       "\n",
       "[37015 rows x 2 columns]"
      ]
     },
     "execution_count": 15,
     "metadata": {},
     "output_type": "execute_result"
    }
   ],
   "source": [
    "pd.read_csv(os.path.join(SPLIT_PATH, \"scaffold\", \"train.csv\"))"
   ]
  },
  {
   "cell_type": "code",
   "execution_count": 29,
   "metadata": {},
   "outputs": [],
   "source": [
    "from sklearn.metrics import roc_auc_score, average_precision_score, roc_curve, precision_recall_curve"
   ]
  },
  {
   "cell_type": "code",
   "execution_count": 29,
   "metadata": {},
   "outputs": [],
   "source": [
    "test_df = pd.read_csv(os.path.join(SPLIT_PATH, \"scaffold\", \"external_test.csv\"))\n",
    "predction_df = pd.read_csv(os.path.join(repo_path, \"classification_inference_results\", \"prediction.csv\"))"
   ]
  },
  {
   "cell_type": "code",
   "execution_count": 38,
   "metadata": {},
   "outputs": [
    {
     "name": "stdout",
     "output_type": "stream",
     "text": [
      "0.5250719682081508\n",
      "0.04230260423982137\n"
     ]
    }
   ],
   "source": [
    "print(roc_auc_score(test_df['label'], predction_df['label']))\n",
    "print(average_precision_score(test_df['label'], predction_df['label']))"
   ]
  },
  {
   "cell_type": "code",
   "execution_count": 47,
   "metadata": {},
   "outputs": [
    {
     "data": {
      "text/html": [
       "<div>\n",
       "<style scoped>\n",
       "    .dataframe tbody tr th:only-of-type {\n",
       "        vertical-align: middle;\n",
       "    }\n",
       "\n",
       "    .dataframe tbody tr th {\n",
       "        vertical-align: top;\n",
       "    }\n",
       "\n",
       "    .dataframe thead th {\n",
       "        text-align: right;\n",
       "    }\n",
       "</style>\n",
       "<table border=\"1\" class=\"dataframe\">\n",
       "  <thead>\n",
       "    <tr style=\"text-align: right;\">\n",
       "      <th></th>\n",
       "      <th>smiles</th>\n",
       "      <th>label</th>\n",
       "    </tr>\n",
       "  </thead>\n",
       "  <tbody>\n",
       "    <tr>\n",
       "      <th>1479</th>\n",
       "      <td>O=C1c2ccccc2C(=O)N1Cc1ccccc1-c1c2ccc(n2)c(-c2c...</td>\n",
       "      <td>0</td>\n",
       "    </tr>\n",
       "    <tr>\n",
       "      <th>2449</th>\n",
       "      <td>Cc1ccc(C=C2C=C3OC(=O)c4cccc(c43)C2=O)cc1</td>\n",
       "      <td>0</td>\n",
       "    </tr>\n",
       "    <tr>\n",
       "      <th>2450</th>\n",
       "      <td>O=C1OC2=CC(=Cc3ccccc3)C(=O)c3cccc1c32</td>\n",
       "      <td>0</td>\n",
       "    </tr>\n",
       "    <tr>\n",
       "      <th>2451</th>\n",
       "      <td>O=C1OC2=CC(=Cc3ccc([N+](=O)[O-])cc3)C(=O)c3ccc...</td>\n",
       "      <td>0</td>\n",
       "    </tr>\n",
       "    <tr>\n",
       "      <th>2545</th>\n",
       "      <td>Cc1cc(S(=O)(=O)Nc2nc3cccc4cccc([nH]2)c43)c(S)c...</td>\n",
       "      <td>0</td>\n",
       "    </tr>\n",
       "    <tr>\n",
       "      <th>3578</th>\n",
       "      <td>CCOC(=O)c1sc2nc(SC)nc3c2c1ncn3-c1ccc(Br)cc1</td>\n",
       "      <td>0</td>\n",
       "    </tr>\n",
       "    <tr>\n",
       "      <th>3579</th>\n",
       "      <td>CCOC(=O)c1sc2nc(SC)nc3c2c1ncn3-c1ccccc1Cl</td>\n",
       "      <td>0</td>\n",
       "    </tr>\n",
       "  </tbody>\n",
       "</table>\n",
       "</div>"
      ],
      "text/plain": [
       "                                                 smiles  label\n",
       "1479  O=C1c2ccccc2C(=O)N1Cc1ccccc1-c1c2ccc(n2)c(-c2c...      0\n",
       "2449           Cc1ccc(C=C2C=C3OC(=O)c4cccc(c43)C2=O)cc1      0\n",
       "2450              O=C1OC2=CC(=Cc3ccccc3)C(=O)c3cccc1c32      0\n",
       "2451  O=C1OC2=CC(=Cc3ccc([N+](=O)[O-])cc3)C(=O)c3ccc...      0\n",
       "2545  Cc1cc(S(=O)(=O)Nc2nc3cccc4cccc([nH]2)c43)c(S)c...      0\n",
       "3578        CCOC(=O)c1sc2nc(SC)nc3c2c1ncn3-c1ccc(Br)cc1      0\n",
       "3579          CCOC(=O)c1sc2nc(SC)nc3c2c1ncn3-c1ccccc1Cl      0"
      ]
     },
     "execution_count": 47,
     "metadata": {},
     "output_type": "execute_result"
    }
   ],
   "source": [
    "test_df[(test_df.smiles  != predction_df.canonical_smiles)]"
   ]
  },
  {
   "cell_type": "code",
   "execution_count": 48,
   "metadata": {},
   "outputs": [
    {
     "data": {
      "text/html": [
       "<div>\n",
       "<style scoped>\n",
       "    .dataframe tbody tr th:only-of-type {\n",
       "        vertical-align: middle;\n",
       "    }\n",
       "\n",
       "    .dataframe tbody tr th {\n",
       "        vertical-align: top;\n",
       "    }\n",
       "\n",
       "    .dataframe thead th {\n",
       "        text-align: right;\n",
       "    }\n",
       "</style>\n",
       "<table border=\"1\" class=\"dataframe\">\n",
       "  <thead>\n",
       "    <tr style=\"text-align: right;\">\n",
       "      <th></th>\n",
       "      <th>canonical_smiles</th>\n",
       "      <th>label</th>\n",
       "    </tr>\n",
       "  </thead>\n",
       "  <tbody>\n",
       "    <tr>\n",
       "      <th>1479</th>\n",
       "      <td>O=C1c2ccccc2C(=O)N1Cc1ccccc1-c1c2nc(c(-c3ccccc...</td>\n",
       "      <td>0.033909</td>\n",
       "    </tr>\n",
       "    <tr>\n",
       "      <th>2449</th>\n",
       "      <td>Cc1ccc(C=c2cc3oc(=O)c4cccc(c4-3)c2=O)cc1</td>\n",
       "      <td>0.186460</td>\n",
       "    </tr>\n",
       "    <tr>\n",
       "      <th>2450</th>\n",
       "      <td>O=c1oc2cc(=Cc3ccccc3)c(=O)c3cccc1c3-2</td>\n",
       "      <td>0.023538</td>\n",
       "    </tr>\n",
       "    <tr>\n",
       "      <th>2451</th>\n",
       "      <td>O=c1oc2cc(=Cc3ccc([N+](=O)[O-])cc3)c(=O)c3cccc...</td>\n",
       "      <td>0.034584</td>\n",
       "    </tr>\n",
       "    <tr>\n",
       "      <th>2545</th>\n",
       "      <td>Cc1cc(S(=O)(=O)NC2=Nc3cccc4cccc(c34)N2)c(S)cc1Cl</td>\n",
       "      <td>0.156992</td>\n",
       "    </tr>\n",
       "    <tr>\n",
       "      <th>3578</th>\n",
       "      <td>CCOC(=O)c1sc2nc(SC)nc3c2c1N=CN3c1ccc(Br)cc1</td>\n",
       "      <td>0.000818</td>\n",
       "    </tr>\n",
       "    <tr>\n",
       "      <th>3579</th>\n",
       "      <td>CCOC(=O)c1sc2nc(SC)nc3c2c1N=CN3c1ccccc1Cl</td>\n",
       "      <td>0.000203</td>\n",
       "    </tr>\n",
       "  </tbody>\n",
       "</table>\n",
       "</div>"
      ],
      "text/plain": [
       "                                       canonical_smiles     label\n",
       "1479  O=C1c2ccccc2C(=O)N1Cc1ccccc1-c1c2nc(c(-c3ccccc...  0.033909\n",
       "2449           Cc1ccc(C=c2cc3oc(=O)c4cccc(c4-3)c2=O)cc1  0.186460\n",
       "2450              O=c1oc2cc(=Cc3ccccc3)c(=O)c3cccc1c3-2  0.023538\n",
       "2451  O=c1oc2cc(=Cc3ccc([N+](=O)[O-])cc3)c(=O)c3cccc...  0.034584\n",
       "2545   Cc1cc(S(=O)(=O)NC2=Nc3cccc4cccc(c34)N2)c(S)cc1Cl  0.156992\n",
       "3578        CCOC(=O)c1sc2nc(SC)nc3c2c1N=CN3c1ccc(Br)cc1  0.000818\n",
       "3579          CCOC(=O)c1sc2nc(SC)nc3c2c1N=CN3c1ccccc1Cl  0.000203"
      ]
     },
     "execution_count": 48,
     "metadata": {},
     "output_type": "execute_result"
    }
   ],
   "source": [
    "predction_df[(test_df.smiles  != predction_df.canonical_smiles)]"
   ]
  },
  {
   "cell_type": "code",
   "execution_count": 40,
   "metadata": {},
   "outputs": [
    {
     "data": {
      "text/html": [
       "<div>\n",
       "<style scoped>\n",
       "    .dataframe tbody tr th:only-of-type {\n",
       "        vertical-align: middle;\n",
       "    }\n",
       "\n",
       "    .dataframe tbody tr th {\n",
       "        vertical-align: top;\n",
       "    }\n",
       "\n",
       "    .dataframe thead th {\n",
       "        text-align: right;\n",
       "    }\n",
       "</style>\n",
       "<table border=\"1\" class=\"dataframe\">\n",
       "  <thead>\n",
       "    <tr style=\"text-align: right;\">\n",
       "      <th></th>\n",
       "      <th>canonical_smiles</th>\n",
       "      <th>label</th>\n",
       "    </tr>\n",
       "  </thead>\n",
       "  <tbody>\n",
       "    <tr>\n",
       "      <th>0</th>\n",
       "      <td>O=C1C(=Cc2cccc(Oc3ccccc3)c2)S(=O)(=O)C(c2ccccc...</td>\n",
       "      <td>0.075247</td>\n",
       "    </tr>\n",
       "    <tr>\n",
       "      <th>1</th>\n",
       "      <td>CC1C(=O)C2C1CS2(=O)=O</td>\n",
       "      <td>0.012605</td>\n",
       "    </tr>\n",
       "    <tr>\n",
       "      <th>2</th>\n",
       "      <td>COc1cc(C2(O)c3ccccc3C3=NCCN32)cc(OC)c1OC</td>\n",
       "      <td>0.367022</td>\n",
       "    </tr>\n",
       "    <tr>\n",
       "      <th>3</th>\n",
       "      <td>Cc1cc2c(C)n(Cc3ccc(Cl)cc3Cl)nc2c(C#N)c1C</td>\n",
       "      <td>0.006438</td>\n",
       "    </tr>\n",
       "    <tr>\n",
       "      <th>4</th>\n",
       "      <td>Cc1cc2c(C)n(Cc3ccc(Cl)cc3Cl)nc2c(C(=O)O)c1C</td>\n",
       "      <td>0.008149</td>\n",
       "    </tr>\n",
       "    <tr>\n",
       "      <th>...</th>\n",
       "      <td>...</td>\n",
       "      <td>...</td>\n",
       "    </tr>\n",
       "    <tr>\n",
       "      <th>4107</th>\n",
       "      <td>CCN(CC)CCOc1ccc(C(C#N)=Cc2ccc(OCCN3CCCCC3)cc2)cc1</td>\n",
       "      <td>0.181808</td>\n",
       "    </tr>\n",
       "    <tr>\n",
       "      <th>4108</th>\n",
       "      <td>Oc1ccc(C23CC4CC(CC(C4)C2)C3)cc1</td>\n",
       "      <td>0.064840</td>\n",
       "    </tr>\n",
       "    <tr>\n",
       "      <th>4109</th>\n",
       "      <td>COC(=O)c1cn2ccc3ccccc3c2c1C(=O)OC</td>\n",
       "      <td>0.002126</td>\n",
       "    </tr>\n",
       "    <tr>\n",
       "      <th>4110</th>\n",
       "      <td>c1csc(-c2cscc2-c2cccs2)c1</td>\n",
       "      <td>0.003083</td>\n",
       "    </tr>\n",
       "    <tr>\n",
       "      <th>4111</th>\n",
       "      <td>Br.CC12CC(c3ccccc3O1)N1CCSC1=N2</td>\n",
       "      <td>0.003935</td>\n",
       "    </tr>\n",
       "  </tbody>\n",
       "</table>\n",
       "<p>4112 rows × 2 columns</p>\n",
       "</div>"
      ],
      "text/plain": [
       "                                       canonical_smiles     label\n",
       "0     O=C1C(=Cc2cccc(Oc3ccccc3)c2)S(=O)(=O)C(c2ccccc...  0.075247\n",
       "1                                 CC1C(=O)C2C1CS2(=O)=O  0.012605\n",
       "2              COc1cc(C2(O)c3ccccc3C3=NCCN32)cc(OC)c1OC  0.367022\n",
       "3              Cc1cc2c(C)n(Cc3ccc(Cl)cc3Cl)nc2c(C#N)c1C  0.006438\n",
       "4           Cc1cc2c(C)n(Cc3ccc(Cl)cc3Cl)nc2c(C(=O)O)c1C  0.008149\n",
       "...                                                 ...       ...\n",
       "4107  CCN(CC)CCOc1ccc(C(C#N)=Cc2ccc(OCCN3CCCCC3)cc2)cc1  0.181808\n",
       "4108                    Oc1ccc(C23CC4CC(CC(C4)C2)C3)cc1  0.064840\n",
       "4109                  COC(=O)c1cn2ccc3ccccc3c2c1C(=O)OC  0.002126\n",
       "4110                          c1csc(-c2cscc2-c2cccs2)c1  0.003083\n",
       "4111                    Br.CC12CC(c3ccccc3O1)N1CCSC1=N2  0.003935\n",
       "\n",
       "[4112 rows x 2 columns]"
      ]
     },
     "execution_count": 40,
     "metadata": {},
     "output_type": "execute_result"
    }
   ],
   "source": [
    "predction_df"
   ]
  },
  {
   "cell_type": "code",
   "execution_count": 37,
   "metadata": {},
   "outputs": [
    {
     "data": {
      "text/plain": [
       "3"
      ]
     },
     "execution_count": 37,
     "metadata": {},
     "output_type": "execute_result"
    }
   ],
   "source": [
    "roc_curve(test_df['label'], predction_df['label'])\n"
   ]
  },
  {
   "cell_type": "code",
   "execution_count": 5,
   "metadata": {},
   "outputs": [
    {
     "name": "stdout",
     "output_type": "stream",
     "text": [
      "ROC-AUC score: 0.8156075856744038\n",
      "PR-AUC score: 0.3042235499086715\n",
      "Accuracy score: 0.9615758754863813\n"
     ]
    }
   ],
   "source": [
    "from ALineMol.utils import eval_roc_auc, eval_pr_auc, eval_acc\n",
    "df1= pd.read_csv(os.path.join(SPLIT_PATH, \"scaffold\", \"external_test.csv\"))\n",
    "df2 = pd.read_csv(os.path.join(repo_path, \"classification_inference_results\", \"prediction.csv\"))\n",
    "\n",
    "print(f\"ROC-AUC score: {eval_roc_auc(df1, df2)}\")\n",
    "print(f\"PR-AUC score: {eval_pr_auc(df1, df2)}\")\n",
    "print(f\"Accuracy score: {eval_acc(df1, df2)}\")"
   ]
  },
  {
   "cell_type": "code",
   "execution_count": null,
   "metadata": {},
   "outputs": [],
   "source": [
    "exteral_test_path = os.path.join(SPLIT_PATH, \"scaffold\", \"external_test.csv\")\n",
    "trained_model_path = os.path.join(repo_path, \"classification_results\", \"HIV\", \"gin_supervised_contextpred\", \"1\")\n",
    "inference_result_path = os.path.join(repo_path, \"classification_inference_results\", \"HIV\", \"gin_supervised_contextpred\")\n",
    "\n",
    "import subprocess\n",
    "result = subprocess.run([\"python\", \"scripts/classification_inference.py\", \"-f\", \"exteral_test_path\", \"-sc\", \"smiles\", \"-tp\", \"trained_model_path\", \"-ip\", \"inference_result_path\", \"-s\"], shell=True, stdout=subprocess.PIPE, stderr=subprocess.PIPE)\n",
    "print(result)"
   ]
  },
  {
   "cell_type": "code",
   "execution_count": 19,
   "metadata": {},
   "outputs": [
    {
     "data": {
      "text/plain": [
       "'/home/scholz/Documents/hfooladi/ALine/ALineMol/classification_results/HIV/gin_supervised_infomax/1'"
      ]
     },
     "execution_count": 19,
     "metadata": {},
     "output_type": "execute_result"
    }
   ],
   "source": [
    "trained_model_path"
   ]
  },
  {
   "cell_type": "code",
   "execution_count": 6,
   "metadata": {},
   "outputs": [],
   "source": [
    "model_names=[\"GCN\",\"GAT\", \"Weave\", \"MPNN\", \"AttentiveFP\", \"NF\", \"gin_supervised_contextpred\", \"gin_supervised_edgepred\", \"gin_supervised_masking\", \"gin_supervised_infomax\"]\n",
    "ID_test_score=[]\n",
    "\n",
    "for model_name in model_names:\n",
    "    df = pd.read_csv(os.path.join(\"classification_results\", \"HIV\", model_name, \"1\", \"eval.txt\"), sep=\":\", header=None)\n",
    "    ID_test_score.append(df.iloc[1, 1])\n",
    "\n",
    "OOD_test_score=[]\n",
    "df1= pd.read_csv(os.path.join(SPLIT_PATH, \"scaffold\", \"external_test.csv\"))\n",
    "for model_name in model_names:\n",
    "    df = pd.read_csv(os.path.join(\"classification_inference_results\", \"HIV\", model_name, \"1\", \"prediction.csv\"))\n",
    "    OOD_test_score.append(eval_roc_auc(df1, df))"
   ]
  },
  {
   "cell_type": "code",
   "execution_count": 81,
   "metadata": {},
   "outputs": [
    {
     "data": {
      "image/png": "[encoded data removed]",
      "text/plain": [
       "<Figure size 1000x600 with 1 Axes>"
      ]
     },
     "metadata": {},
     "output_type": "display_data"
    }
   ],
   "source": [
    "fig, ax = plt.subplots(1, 1, figsize=(10, 6))\n",
    "ax.scatter(ID_test_score, OOD_test_score, color=light_color, s=40)\n",
    "ax.axline((0.6, 0.6), slope=1, linestyle=\"--\")\n",
    "ax.axline((0.5, 0.6), (1, 1.1), color=dark_color, linestyle=\"--\")\n",
    "ax.axline((0.5, 0.4), (1, 0.9), color=dark_color, linestyle=\"--\")\n",
    "\n",
    "ax.set_title(\"HIV Dataset (MoleculeNet)\")\n",
    "ax.set_xlabel(\"ID Test ROC-AUC\")\n",
    "ax.set_ylabel(\"OOD Test ROC-AUC\")\n",
    "\n",
    "\n",
    "ax.set_xlim(0.5, 1)\n",
    "ax.set_ylim(0.5, 1)\n",
    "\n",
    "ax.grid(False)\n",
    "\n",
    "fig.savefig(os.path.join(repo_path, \"assets\", \"hiv_roc_auc_ID_OOD.pdf\"), bbox_inches='tight', backend='pgf')\n",
    "plt.show()"
   ]
  },
  {
   "cell_type": "code",
   "execution_count": 8,
   "metadata": {},
   "outputs": [
    {
     "data": {
      "image/png": "[encoded data removed]",
      "text/plain": [
       "<Figure size 1000x600 with 1 Axes>"
      ]
     },
     "metadata": {},
     "output_type": "display_data"
    }
   ],
   "source": [
    "plot_ID_OOD(ID_test_score, OOD_test_score)"
   ]
  },
  {
   "cell_type": "code",
   "execution_count": 48,
   "metadata": {},
   "outputs": [
    {
     "data": {
      "image/png": "[encoded data removed]",
      "text/plain": [
       "<Figure size 1000x600 with 1 Axes>"
      ]
     },
     "metadata": {},
     "output_type": "display_data"
    }
   ],
   "source": [
    "dffig, ax = plt.subplots(1, 1, figsize=(10, 6))\n",
    "ax.scatter(ID_test_score, OOD_test_score, color=light_color, s=40)\n",
    "ax.axline((0.6, 0.6), slope=1)\n",
    "\n",
    "plt.show()"
   ]
  },
  {
   "cell_type": "code",
   "execution_count": 10,
   "metadata": {},
   "outputs": [
    {
     "name": "stdout",
     "output_type": "stream",
     "text": [
      " 0.7527920148160909\n"
     ]
    }
   ],
   "source": [
    "model_name=\"Weave\"\n",
    "!cat classification_results/HIV/$model_name/1/eval.txt | head -2 | tail -1 | cut -d : -f 2"
   ]
  },
  {
   "cell_type": "code",
   "execution_count": 15,
   "metadata": {},
   "outputs": [],
   "source": [
    "df = pd.read_csv(os.path.join(\"classification_results\", \"HIV\", \"GCN\" , \"1\", \"eval.txt\"), sep=\":\", header=None)"
   ]
  },
  {
   "cell_type": "code",
   "execution_count": 5,
   "metadata": {},
   "outputs": [],
   "source": [
    "from dgllife.utils import PretrainAtomFeaturizer, PretrainBondFeaturizer"
   ]
  },
  {
   "cell_type": "code",
   "execution_count": 8,
   "metadata": {},
   "outputs": [],
   "source": [
    "from rdkit import Chem\n",
    "import torch\n",
    "mol = Chem.MolFromSmiles(df[\"smiles\"][0])"
   ]
  },
  {
   "cell_type": "code",
   "execution_count": 40,
   "metadata": {},
   "outputs": [],
   "source": [
    "edge_features = []\n",
    "num_bonds = mol.GetNumBonds()"
   ]
  },
  {
   "cell_type": "code",
   "execution_count": 46,
   "metadata": {},
   "outputs": [],
   "source": [
    "for j, smile in enumerate(df[\"smiles\"]):\n",
    "    mol = Chem.MolFromSmiles(smile)\n",
    "    num_bonds = mol.GetNumBonds()\n",
    "    for i in range(num_bonds):\n",
    "        bond = mol.GetBondWithIdx(i)\n",
    "        bond_feature = bond.GetBondType().__str__()\n",
    "        if bond_feature == \"DATIVE\":\n",
    "            print(j)\n",
    "        edge_features.append(bond_feature)"
   ]
  },
  {
   "cell_type": "code",
   "execution_count": 47,
   "metadata": {},
   "outputs": [],
   "source": [
    "df.to_csv(os.path.join(repo_path, \"datasets\", \"MoleculeNet\", \"HIV\", \"split\", \"scaffold\", \"train.csv\"), index=False)"
   ]
  },
  {
   "cell_type": "code",
   "execution_count": 35,
   "metadata": {},
   "outputs": [
    {
     "data": {
      "text/plain": [
       "Counter({'SINGLE': 554463,\n",
       "         'AROMATIC': 471587,\n",
       "         'DOUBLE': 99070,\n",
       "         'TRIPLE': 4566,\n",
       "         'DATIVE': 2})"
      ]
     },
     "execution_count": 35,
     "metadata": {},
     "output_type": "execute_result"
    }
   ],
   "source": [
    "from collections import Counter\n",
    "Counter(edge_features)"
   ]
  },
  {
   "cell_type": "code",
   "execution_count": 6,
   "metadata": {},
   "outputs": [
    {
     "data": {
      "text/html": [
       "<div>\n",
       "<style scoped>\n",
       "    .dataframe tbody tr th:only-of-type {\n",
       "        vertical-align: middle;\n",
       "    }\n",
       "\n",
       "    .dataframe tbody tr th {\n",
       "        vertical-align: top;\n",
       "    }\n",
       "\n",
       "    .dataframe thead th {\n",
       "        text-align: right;\n",
       "    }\n",
       "</style>\n",
       "<table border=\"1\" class=\"dataframe\">\n",
       "  <thead>\n",
       "    <tr style=\"text-align: right;\">\n",
       "      <th></th>\n",
       "      <th>smiles</th>\n",
       "      <th>label</th>\n",
       "    </tr>\n",
       "  </thead>\n",
       "  <tbody>\n",
       "    <tr>\n",
       "      <th>0</th>\n",
       "      <td>CCC1=[O+][Cu-3]2([O+]=C(CC)C1)[O+]=C(CC)CC(CC)...</td>\n",
       "      <td>0</td>\n",
       "    </tr>\n",
       "    <tr>\n",
       "      <th>1</th>\n",
       "      <td>C(=Cc1ccccc1)C1=[O+][Cu-3]2([O+]=C(C=Cc3ccccc3...</td>\n",
       "      <td>0</td>\n",
       "    </tr>\n",
       "    <tr>\n",
       "      <th>2</th>\n",
       "      <td>CC(=O)N1c2ccccc2Sc2c1ccc1ccccc21</td>\n",
       "      <td>0</td>\n",
       "    </tr>\n",
       "    <tr>\n",
       "      <th>3</th>\n",
       "      <td>Nc1ccc(C=Cc2ccc(N)cc2S(=O)(=O)O)c(S(=O)(=O)O)c1</td>\n",
       "      <td>0</td>\n",
       "    </tr>\n",
       "    <tr>\n",
       "      <th>4</th>\n",
       "      <td>O=S(=O)(O)CCS(=O)(=O)O</td>\n",
       "      <td>0</td>\n",
       "    </tr>\n",
       "    <tr>\n",
       "      <th>...</th>\n",
       "      <td>...</td>\n",
       "      <td>...</td>\n",
       "    </tr>\n",
       "    <tr>\n",
       "      <th>41122</th>\n",
       "      <td>CCC1CCC2c3c([nH]c4ccc(C)cc34)C3C(=O)N(N(C)C)C(...</td>\n",
       "      <td>0</td>\n",
       "    </tr>\n",
       "    <tr>\n",
       "      <th>41123</th>\n",
       "      <td>Cc1ccc2[nH]c3c(c2c1)C1CCC(C(C)(C)C)CC1C1C(=O)N...</td>\n",
       "      <td>0</td>\n",
       "    </tr>\n",
       "    <tr>\n",
       "      <th>41124</th>\n",
       "      <td>Cc1ccc(N2C(=O)C3c4[nH]c5ccccc5c4C4CCC(C(C)(C)C...</td>\n",
       "      <td>0</td>\n",
       "    </tr>\n",
       "    <tr>\n",
       "      <th>41125</th>\n",
       "      <td>Cc1cccc(N2C(=O)C3c4[nH]c5ccccc5c4C4CCC(C(C)(C)...</td>\n",
       "      <td>0</td>\n",
       "    </tr>\n",
       "    <tr>\n",
       "      <th>41126</th>\n",
       "      <td>CCCCCC=C(c1cc(Cl)c(OC)c(-c2nc(C)no2)c1)c1cc(Cl...</td>\n",
       "      <td>0</td>\n",
       "    </tr>\n",
       "  </tbody>\n",
       "</table>\n",
       "<p>41127 rows × 2 columns</p>\n",
       "</div>"
      ],
      "text/plain": [
       "                                                  smiles  label\n",
       "0      CCC1=[O+][Cu-3]2([O+]=C(CC)C1)[O+]=C(CC)CC(CC)...      0\n",
       "1      C(=Cc1ccccc1)C1=[O+][Cu-3]2([O+]=C(C=Cc3ccccc3...      0\n",
       "2                       CC(=O)N1c2ccccc2Sc2c1ccc1ccccc21      0\n",
       "3        Nc1ccc(C=Cc2ccc(N)cc2S(=O)(=O)O)c(S(=O)(=O)O)c1      0\n",
       "4                                 O=S(=O)(O)CCS(=O)(=O)O      0\n",
       "...                                                  ...    ...\n",
       "41122  CCC1CCC2c3c([nH]c4ccc(C)cc34)C3C(=O)N(N(C)C)C(...      0\n",
       "41123  Cc1ccc2[nH]c3c(c2c1)C1CCC(C(C)(C)C)CC1C1C(=O)N...      0\n",
       "41124  Cc1ccc(N2C(=O)C3c4[nH]c5ccccc5c4C4CCC(C(C)(C)C...      0\n",
       "41125  Cc1cccc(N2C(=O)C3c4[nH]c5ccccc5c4C4CCC(C(C)(C)...      0\n",
       "41126  CCCCCC=C(c1cc(Cl)c(OC)c(-c2nc(C)no2)c1)c1cc(Cl...      0\n",
       "\n",
       "[41127 rows x 2 columns]"
      ]
     },
     "execution_count": 6,
     "metadata": {},
     "output_type": "execute_result"
    }
   ],
   "source": [
    "edge_features = []\n",
    "num_bonds = mol.GetNumBonds()\n",
    "if num_bonds == 0:\n",
    "    assert self._self_loop, \\\n",
    "        'The molecule has 0 bonds and we should set self._self_loop to True.'\n",
    "\n",
    "# Compute features for each bond\n",
    "for i in range(num_bonds):\n",
    "    bond = mol.GetBondWithIdx(i)\n",
    "    bond_feats = [\n",
    "        self._bond_types.index(bond.GetBondType()),\n",
    "        self._bond_direction_types.index(bond.GetBondDir())\n",
    "    ]\n",
    "    edge_features.extend([bond_feats, bond_feats.copy()])\n",
    "\n",
    "if self._self_loop:\n",
    "    self_loop_features = torch.zeros((mol.GetNumAtoms(), 2), dtype=torch.int64)\n",
    "    self_loop_features[:, 0] = len(self._bond_types)\n",
    "\n",
    "if num_bonds == 0:\n",
    "    edge_features = self_loop_features\n",
    "else:\n",
    "    edge_features = np.stack(edge_features)\n",
    "    edge_features = F.zerocopy_from_numpy(edge_features.astype(np.int64))\n",
    "    if self._self_loop:\n",
    "        edge_features = torch.cat([edge_features, self_loop_features], dim=0)"
   ]
  }
 ],
 "metadata": {
  "kernelspec": {
   "display_name": "pytorch",
   "language": "python",
   "name": "python3"
  },
  "language_info": {
   "codemirror_mode": {
    "name": "ipython",
    "version": 3
   },
   "file_extension": ".py",
   "mimetype": "text/x-python",
   "name": "python",
   "nbconvert_exporter": "python",
   "pygments_lexer": "ipython3",
   "version": "3.10.12"
  }
 },
 "nbformat": 4,
 "nbformat_minor": 2
}
